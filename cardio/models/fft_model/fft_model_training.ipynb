{
 "cells": [
  {
   "cell_type": "code",
   "execution_count": 1,
   "metadata": {},
   "outputs": [
    {
     "name": "stdout",
     "output_type": "stream",
     "text": [
      "Mon Dec 25 15:41:53 2017       \n",
      "+-----------------------------------------------------------------------------+\n",
      "| NVIDIA-SMI 375.26                 Driver Version: 375.26                    |\n",
      "|-------------------------------+----------------------+----------------------+\n",
      "| GPU  Name        Persistence-M| Bus-Id        Disp.A | Volatile Uncorr. ECC |\n",
      "| Fan  Temp  Perf  Pwr:Usage/Cap|         Memory-Usage | GPU-Util  Compute M. |\n",
      "|===============================+======================+======================|\n",
      "|   0  GeForce GTX 1080    Off  | 0000:02:00.0     Off |                  N/A |\n",
      "|  0%   34C    P0    41W / 200W |      0MiB /  8113MiB |      0%      Default |\n",
      "+-------------------------------+----------------------+----------------------+\n",
      "|   1  GeForce GTX 1080    Off  | 0000:03:00.0     Off |                  N/A |\n",
      "|  0%   35C    P0    41W / 200W |      0MiB /  8112MiB |      0%      Default |\n",
      "+-------------------------------+----------------------+----------------------+\n",
      "                                                                               \n",
      "+-----------------------------------------------------------------------------+\n",
      "| Processes:                                                       GPU Memory |\n",
      "|  GPU       PID  Type  Process name                               Usage      |\n",
      "|=============================================================================|\n",
      "|  No running processes found                                                 |\n",
      "+-----------------------------------------------------------------------------+\n"
     ]
    }
   ],
   "source": [
    "!nvidia-smi"
   ]
  },
  {
   "cell_type": "code",
   "execution_count": 2,
   "metadata": {},
   "outputs": [
    {
     "name": "stdout",
     "output_type": "stream",
     "text": [
      "env: CUDA_VISIBLE_DEVICES=1\n"
     ]
    },
    {
     "name": "stderr",
     "output_type": "stream",
     "text": [
      "Using TensorFlow backend.\n"
     ]
    }
   ],
   "source": [
    "import matplotlib.pyplot as plt\n",
    "\n",
    "from sklearn.metrics import f1_score\n",
    "import tensorflow as tf\n",
    "import numpy as np\n",
    "import sys\n",
    "import os\n",
    "\n",
    "sys.path.append(os.path.join(\"..\", \"..\", \"..\"))\n",
    "import cardio.dataset as ds\n",
    "from cardio import EcgBatch\n",
    "from cardio.dataset import F, V, B\n",
    "from cardio.models.fft_model import FFTModel\n",
    "\n",
    "%env CUDA_VISIBLE_DEVICES=1\n",
    "config = tf.ConfigProto()\n",
    "config.gpu_options.per_process_gpu_memory_fraction = 0.33\n",
    "config.gpu_options.allow_growth=True"
   ]
  },
  {
   "cell_type": "markdown",
   "metadata": {},
   "source": [
    "## Train pipeline"
   ]
  },
  {
   "cell_type": "code",
   "execution_count": 3,
   "metadata": {},
   "outputs": [],
   "source": [
    "model_config = {\n",
    "    \"input_shape\": F(lambda batch: batch.signal[0].shape),\n",
    "    \"loss\": \"binary_crossentropy\",\n",
    "    \"optimizer\": \"adam\"\n",
    "}\n",
    "\n",
    "def make_data(batch, **kwagrs):\n",
    "    return {'x': np.array(list(batch.signal)), 'y': batch.target}\n",
    "    \n",
    "train_pipeline = (ds.Pipeline()\n",
    "                  .init_model(\"dynamic\", FFTModel, name=\"fft_model\", config=model_config)\n",
    "                  .init_variable(\"loss_history\", init=list)\n",
    "                  .load(fmt=\"wfdb\", components=[\"signal\", \"meta\"])\n",
    "                  .load(src=\"/notebooks/data/ECG/training2017/REFERENCE.csv\",\n",
    "                        fmt=\"csv\", components=\"target\")\n",
    "                  .drop_labels([\"~\"])\n",
    "                  .rename_labels({\"N\": \"NO\", \"O\": \"NO\"})\n",
    "                  .random_resample_signals(\"normal\", loc=300, scale=10)\n",
    "                  .drop_short_signals(4000)\n",
    "                  .split_signals(3000, 3000)\n",
    "                  .binarize_labels()\n",
    "                  .apply_transform(np.transpose, axes=[0, 2, 1], src='signal', dst='signal')\n",
    "                  .unstack_signals()\n",
    "                  .train_model('fft_model', make_data=make_data,\n",
    "                               save_to=V(\"loss_history\"), mode=\"a\"))"
   ]
  },
  {
   "cell_type": "code",
   "execution_count": 4,
   "metadata": {},
   "outputs": [],
   "source": [
    "index = ds.FilesIndex(path=\"/notebooks/data/ECG/training2017/*.hea\", no_ext=True, sort=True)\n",
    "eds = ds.Dataset(index, batch_class=EcgBatch)\n",
    "eds.cv_split(0.8)"
   ]
  },
  {
   "cell_type": "code",
   "execution_count": 5,
   "metadata": {},
   "outputs": [],
   "source": [
    "fft_trained = (eds.train >> train_pipeline).run(batch_size=300, shuffle=True,\n",
    "                                                drop_last=True, n_epochs=150, prefetch=0)"
   ]
  },
  {
   "cell_type": "markdown",
   "metadata": {},
   "source": [
    "## Show loss and metric on train"
   ]
  },
  {
   "cell_type": "code",
   "execution_count": 6,
   "metadata": {},
   "outputs": [
    {
     "data": {
      "image/png": "[encoded data removed]",
      "text/plain": [
       "<matplotlib.figure.Figure at 0x7f49f2612518>"
      ]
     },
     "metadata": {},
     "output_type": "display_data"
    }
   ],
   "source": [
    "import pandas as pd\n",
    "loss = pd.DataFrame(fft_trained.get_variable(\"loss_history\"), columns=[\"loss\"])\n",
    "loss[\"avr loss\"] = pd.DataFrame(loss).rolling(center=True, window=100).mean()\n",
    "loss.plot()\n",
    "plt.show()"
   ]
  },
  {
   "cell_type": "markdown",
   "metadata": {},
   "source": [
    "## Save model"
   ]
  },
  {
   "cell_type": "code",
   "execution_count": 7,
   "metadata": {},
   "outputs": [],
   "source": [
    "from cardio.models.keras_custom_objects import RFFT, Crop, Inception2D\n",
    "(fft_trained.get_model_by_name(\"fft_model\")\n",
    "            .save(\"/notebooks/e_illarionov/ecg_repo/model_dump/fft_latest\"))"
   ]
  },
  {
   "cell_type": "markdown",
   "metadata": {},
   "source": [
    "## Test pipeline"
   ]
  },
  {
   "cell_type": "code",
   "execution_count": 8,
   "metadata": {},
   "outputs": [],
   "source": [
    "def make_pivot(pipeline, variable_name):\n",
    "    cropes = np.array([x[0] for x in pipeline.get_variable(\"shapes\")])\n",
    "    pos = np.vstack([np.pad(np.cumsum(cropes)[:-1], pad_width=(1, 0), mode='constant'), cropes]).T\n",
    "    labels = np.array(pipeline.get_variable(variable_name))    \n",
    "    return np.array([labels[s: s + i].mean(axis=0) for s, i in pos])\n",
    "\n",
    "test_pipeline = (ds.Pipeline()\n",
    "                 .import_model(\"fft_model\", fft_trained)\n",
    "                 .init_variable(\"true_labels\", init=list)\n",
    "                 .init_variable(\"pred_labels\", init=list)\n",
    "                 .init_variable(\"shapes\", init=list)\n",
    "                 .init_variable(\"pivot_true_labels\", init=list)\n",
    "                 .init_variable(\"pivot_pred_labels\", init=list)\n",
    "                 .load(fmt=\"wfdb\", components=[\"signal\", \"meta\"])\n",
    "                 .load(src=\"/notebooks/data/ECG/training2017/REFERENCE.csv\",\n",
    "                       fmt=\"csv\", components=\"target\")\n",
    "                 .drop_labels([\"~\"])\n",
    "                 .rename_labels({\"N\": \"NO\", \"O\": \"NO\"})\n",
    "                 .drop_short_signals(4000)\n",
    "                 .split_signals(3000, 3000)\n",
    "                 .binarize_labels()\n",
    "                 .apply_transform(np.transpose, axes=[0, 2, 1], src='signal', dst='signal')\n",
    "                 .update_variable(\"shapes\", F(lambda batch: [x.shape for x in batch.signal]), mode='w')\n",
    "                 .unstack_signals()\n",
    "                 .update_variable(\"true_labels\", B('target'), mode='w')\n",
    "                 .predict_model('fft_model', make_data=make_data, save_to=V(\"pred_labels\"), mode=\"w\")\n",
    "                 .update_variable(\"pivot_true_labels\", F(lambda batch: make_pivot(batch.pipeline, 'true_labels')), mode='e')\n",
    "                 .update_variable(\"pivot_pred_labels\", F(lambda batch: make_pivot(batch.pipeline, 'pred_labels')), mode='e'))"
   ]
  },
  {
   "cell_type": "code",
   "execution_count": 9,
   "metadata": {},
   "outputs": [],
   "source": [
    "res_test = (eds.test >> test_pipeline).run(batch_size=300, shuffle=False, drop_last=False,\n",
    "                                           n_epochs=1, prefetch=0)"
   ]
  },
  {
   "cell_type": "code",
   "execution_count": 10,
   "metadata": {},
   "outputs": [
    {
     "name": "stdout",
     "output_type": "stream",
     "text": [
      "0.878696268304\n"
     ]
    }
   ],
   "source": [
    "print(f1_score(np.array(res_test.get_variable(\"pivot_true_labels\"))[:, 0],\n",
    "               np.rint(res_test.get_variable(\"pivot_pred_labels\"))[:, 0], average='macro'))"
   ]
  },
  {
   "cell_type": "code",
   "execution_count": 11,
   "metadata": {},
   "outputs": [
    {
     "name": "stdout",
     "output_type": "stream",
     "text": [
      "             precision    recall  f1-score   support\n",
      "\n",
      "        0.0       0.97      0.99      0.98      1443\n",
      "        1.0       0.88      0.70      0.78       162\n",
      "\n",
      "avg / total       0.96      0.96      0.96      1605\n",
      "\n"
     ]
    }
   ],
   "source": [
    "from sklearn.metrics import classification_report\n",
    "print(classification_report(np.array(res_test.get_variable(\"pivot_true_labels\"))[:, 0],\n",
    "                            np.rint(res_test.get_variable(\"pivot_pred_labels\"))[:, 0]))"
   ]
  }
 ],
 "metadata": {
  "kernelspec": {
   "display_name": "Python 3",
   "language": "python",
   "name": "python3"
  },
  "language_info": {
   "codemirror_mode": {
    "name": "ipython",
    "version": 3
   },
   "file_extension": ".py",
   "mimetype": "text/x-python",
   "name": "python",
   "nbconvert_exporter": "python",
   "pygments_lexer": "ipython3",
   "version": "3.5.2"
  }
 },
 "nbformat": 4,
 "nbformat_minor": 2
}
