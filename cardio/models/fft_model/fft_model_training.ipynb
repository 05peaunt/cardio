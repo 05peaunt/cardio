{
 "cells": [
  {
   "cell_type": "code",
   "execution_count": 3,
   "metadata": {},
   "outputs": [
    {
     "name": "stdout",
     "output_type": "stream",
     "text": [
      "Wed Nov  8 14:09:28 2017       \r\n",
      "+-----------------------------------------------------------------------------+\r\n",
      "| NVIDIA-SMI 375.26                 Driver Version: 375.26                    |\r\n",
      "|-------------------------------+----------------------+----------------------+\r\n",
      "| GPU  Name        Persistence-M| Bus-Id        Disp.A | Volatile Uncorr. ECC |\r\n",
      "| Fan  Temp  Perf  Pwr:Usage/Cap|         Memory-Usage | GPU-Util  Compute M. |\r\n",
      "|===============================+======================+======================|\r\n",
      "|   0  GeForce GTX 1080    Off  | 0000:02:00.0     Off |                  N/A |\r\n",
      "|  0%   37C    P8    14W / 200W |   7929MiB /  8113MiB |      0%      Default |\r\n",
      "+-------------------------------+----------------------+----------------------+\r\n",
      "|   1  GeForce GTX 1080    Off  | 0000:03:00.0     Off |                  N/A |\r\n",
      "|  0%   37C    P8    15W / 200W |      0MiB /  8112MiB |      0%      Default |\r\n",
      "+-------------------------------+----------------------+----------------------+\r\n",
      "                                                                               \r\n",
      "+-----------------------------------------------------------------------------+\r\n",
      "| Processes:                                                       GPU Memory |\r\n",
      "|  GPU       PID  Type  Process name                               Usage      |\r\n",
      "|=============================================================================|\r\n",
      "+-----------------------------------------------------------------------------+\r\n"
     ]
    }
   ],
   "source": [
    "!nvidia-smi"
   ]
  },
  {
   "cell_type": "code",
   "execution_count": 2,
   "metadata": {},
   "outputs": [
    {
     "name": "stderr",
     "output_type": "stream",
     "text": [
      "Using TensorFlow backend.\n"
     ]
    },
    {
     "name": "stdout",
     "output_type": "stream",
     "text": [
      "env: CUDA_VISIBLE_DEVICES=0\n"
     ]
    }
   ],
   "source": [
    "import matplotlib.pyplot as plt\n",
    "\n",
    "from sklearn.metrics import f1_score\n",
    "import tensorflow as tf\n",
    "import numpy as np\n",
    "import sys\n",
    "import os\n",
    "\n",
    "sys.path.append(os.path.join(\"..\", \"..\", \"..\"))\n",
    "import cardio.dataset as ds\n",
    "from cardio import EcgBatch\n",
    "from cardio.dataset import F, V\n",
    "from cardio.models.fft_model import FFTModel\n",
    "\n",
    "%env CUDA_VISIBLE_DEVICES=0\n",
    "config = tf.ConfigProto()\n",
    "config.gpu_options.per_process_gpu_memory_fraction = 0.33\n",
    "config.gpu_options.allow_growth=True"
   ]
  },
  {
   "cell_type": "markdown",
   "metadata": {},
   "source": [
    "## Train pipeline"
   ]
  },
  {
   "cell_type": "code",
   "execution_count": 3,
   "metadata": {
    "collapsed": true
   },
   "outputs": [],
   "source": [
    "model_config = {\n",
    "    \"input_shape\": F(lambda batch: batch.signal[0].shape),\n",
    "    \"loss\": \"binary_crossentropy\",\n",
    "    \"optimizer\": \"adam\"\n",
    "}\n",
    "\n",
    "def make_data(batch, **kwagrs):\n",
    "    return {'x': np.array(list(batch.signal)), 'y': batch.target}\n",
    "    \n",
    "train_pipeline = (ds.Pipeline()\n",
    "                  .init_model(\"dynamic\", FFTModel, name=\"fft_model\", config=model_config)\n",
    "                  .init_variable(\"loss_history\", init=list)\n",
    "                  .init_variable(\"true_targets\", init=list)\n",
    "                  .load(fmt=\"wfdb\", components=[\"signal\", \"meta\"])\n",
    "                  .load(src=\"/notebooks/data/ECG/training2017/REFERENCE.csv\",\n",
    "                        fmt=\"csv\", components=\"target\")\n",
    "                  .drop_labels([\"~\"])\n",
    "                  .replace_labels({\"N\": \"NO\", \"O\": \"NO\"})\n",
    "                  .random_resample_signals(\"normal\", loc=300, scale=10)\n",
    "                  .drop_short_signals(4000)\n",
    "                  .split_signals(3000, 3000)\n",
    "                  .binarize_labels()\n",
    "                  .apply(np.transpose , axes=[0, 2, 1])\n",
    "                  .ravel()\n",
    "                  .get_targets('true_targets')\n",
    "                  .train_model('fft_model', make_data=make_data,\n",
    "                               save_to=V(\"loss_history\"), mode=\"a\")\n",
    "                  .run(batch_size=300, shuffle=True,\n",
    "                       drop_last=True, n_epochs=1, prefetch=0, lazy=True))"
   ]
  },
  {
   "cell_type": "code",
   "execution_count": 5,
   "metadata": {
    "collapsed": true
   },
   "outputs": [],
   "source": [
    "index = ds.FilesIndex(path=\"/notebooks/data/ECG/training2017/*.hea\", no_ext=True, sort=True)\n",
    "eds = ds.Dataset(index, batch_class=EcgBatch)\n",
    "eds.cv_split(0.8)\n",
    "fft_trained = (eds.test >> train_pipeline).run()"
   ]
  },
  {
   "cell_type": "markdown",
   "metadata": {},
   "source": [
    "## Show loss and metric on train"
   ]
  },
  {
   "cell_type": "code",
   "execution_count": 6,
   "metadata": {},
   "outputs": [
    {
     "data": {
      "image/png": "[encoded data removed]",
      "text/plain": [
       "<matplotlib.figure.Figure at 0x7f0b15d99390>"
      ]
     },
     "metadata": {},
     "output_type": "display_data"
    }
   ],
   "source": [
    "plt.plot(fft_trained.get_variable(\"loss_history\"))\n",
    "plt.show()"
   ]
  },
  {
   "cell_type": "markdown",
   "metadata": {},
   "source": [
    "## Save model"
   ]
  },
  {
   "cell_type": "code",
   "execution_count": 7,
   "metadata": {
    "collapsed": true
   },
   "outputs": [],
   "source": [
    "(fft_trained.get_model_by_name(\"fft_model\")\n",
    "            .save(\"/notebooks/e_illarionov/ecg_repo/model_dump/fft_latest\"))"
   ]
  },
  {
   "cell_type": "markdown",
   "metadata": {},
   "source": [
    "## Test pipeline"
   ]
  },
  {
   "cell_type": "code",
   "execution_count": 8,
   "metadata": {
    "collapsed": true
   },
   "outputs": [],
   "source": [
    "test_pipeline = (ds.Pipeline()\n",
    "                 .import_model(\"fft_model\", train_pipeline)\n",
    "                 .init_variable(\"pred_targets\", init=list)\n",
    "                 .init_variable(\"true_targets\", init=list)\n",
    "                 .load(fmt=\"wfdb\", components=[\"signal\", \"meta\"])\n",
    "                 .load(src=\"/notebooks/data/ECG/training2017/REFERENCE.csv\",\n",
    "                       fmt=\"csv\", components=\"target\")\n",
    "                 .drop_labels([\"~\"])\n",
    "                 .replace_labels({\"N\": \"NO\", \"O\": \"NO\"})\n",
    "                 .random_resample_signals(\"normal\", loc=300, scale=10)\n",
    "                 .drop_short_signals(4000)\n",
    "                 .split_signals(3000, 3000)\n",
    "                 .binarize_labels()\n",
    "                 .apply(np.transpose , axes=[0, 2, 1])\n",
    "                 .ravel()\n",
    "                 .get_targets('true_targets', mode='e')\n",
    "                 .predict_model('fft_model', make_data=make_data,\n",
    "                                save_to=V(\"pred_targets\"), mode=\"e\", metrics=f1_score))"
   ]
  },
  {
   "cell_type": "code",
   "execution_count": 10,
   "metadata": {
    "collapsed": true
   },
   "outputs": [],
   "source": [
    "res_test = (eds.test >> test_pipeline).run(batch_size=300, shuffle=False, drop_last=False,\n",
    "                                           n_epochs=1, prefetch=0)"
   ]
  },
  {
   "cell_type": "code",
   "execution_count": 20,
   "metadata": {},
   "outputs": [
    {
     "data": {
      "text/plain": [
       "0.16159239747010032"
      ]
     },
     "execution_count": 20,
     "metadata": {},
     "output_type": "execute_result"
    }
   ],
   "source": [
    "f1_score(np.array(res_test.get_variable(\"true_targets\"))[:, 0],\n",
    "         np.rint(res_test.get_variable(\"pred_targets\"))[:, 0], average='macro')"
   ]
  }
 ],
 "metadata": {
  "kernelspec": {
   "display_name": "Python 3",
   "language": "python",
   "name": "python3"
  },
  "language_info": {
   "codemirror_mode": {
    "name": "ipython",
    "version": 3
   },
   "file_extension": ".py",
   "mimetype": "text/x-python",
   "name": "python",
   "nbconvert_exporter": "python",
   "pygments_lexer": "ipython3",
   "version": "3.5.2"
  }
 },
 "nbformat": 4,
 "nbformat_minor": 2
}
