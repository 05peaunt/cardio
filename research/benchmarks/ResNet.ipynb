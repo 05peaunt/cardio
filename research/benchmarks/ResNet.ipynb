{
 "cells": [
  {
   "cell_type": "code",
   "execution_count": 1,
   "metadata": {},
   "outputs": [],
   "source": [
    "# imports\n",
    "import os\n",
    "import sys\n",
    "\n",
    "sys.path.append(\"../../\")\n",
    "\n",
    "import numpy as np\n",
    "import tensorflow as tf\n",
    "from numba import njit\n",
    "\n",
    "from cardio import EcgDataset\n",
    "from cardio import dataset as ds\n",
    "from cardio.dataset import best_practice\n",
    "from cardio.dataset import F, B, C, V, Config\n",
    "from cardio.dataset.research import KV, Grid, Option, Research\n",
    "\n",
    "from cardio.dataset.models.tf import ResNet, ResNet18, ResNet34"
   ]
  },
  {
   "cell_type": "markdown",
   "metadata": {},
   "source": [
    "# Setting up"
   ]
  },
  {
   "cell_type": "code",
   "execution_count": 2,
   "metadata": {},
   "outputs": [],
   "source": [
    "# Helper functions\n",
    "def make_data(batch, **kwagrs):\n",
    "    import numpy as np\n",
    "    n_reps = [signal.shape[0] for signal in batch.signal]\n",
    "    signals = np.array([segment for signal in batch.signal for segment in signal])\n",
    "    targets = np.repeat(batch.target, n_reps, axis=0)\n",
    "    return {\"feed_dict\": {'signals': signals, 'labels': targets}}\n",
    "\n",
    "# Flipping for augmentation\n",
    "@njit(nogil=True)\n",
    "def center_flip(signal):\n",
    "    return np.random.choice(np.array([1, -1])) * (signal - np.mean(signal))\n",
    "\n",
    "# Checking for number of parameters in the model\n",
    "def get_trainable_variables(iteration, experiment, ppl, model_name=\"model\"):\n",
    "    return experiment[ppl].pipeline.get_model_by_name(model_name).get_number_of_trainable_vars()\n",
    "\n",
    "# Calculation F1 score on the test data\n",
    "def calc_f1_score(iteration, experiment, ppl, agg_func=np.mean, threshold=0.5):\n",
    "    \"\"\"Calculates F1 score after run of test pipeline usnig its variables.\"\"\"\n",
    "    from sklearn import metrics\n",
    "    import numpy as np\n",
    "    \n",
    "    predictions = np.concatenate(experiment[ppl].pipeline.get_variable('predictions'))\n",
    "    targets = np.concatenate(experiment[ppl].pipeline.get_variable('targets'))\n",
    "    splits = np.concatenate(experiment[ppl].pipeline.get_variable('splits'))\n",
    "\n",
    "    def safe_softmax(preds):\n",
    "        preds -= np.max(preds, axis=1, keepdims=True)\n",
    "        preds_exp = np.exp(preds)\n",
    "        return (preds_exp / np.sum(preds_exp, axis=1, keepdims=True))\n",
    "    \n",
    "    predictions = safe_softmax(predictions)\n",
    "\n",
    "    def split_agg(vec, splits, agg_func):\n",
    "        vec = np.split(vec, np.cumsum(splits)[:-1])\n",
    "        return np.array([agg_func(sig[:, 0]) for sig in vec])\n",
    "\n",
    "    predictions = split_agg(predictions, splits, agg_func)\n",
    "    targets = split_agg(targets, splits, agg_func)\n",
    "    \n",
    "    f_score = metrics.f1_score(targets, predictions>threshold, average='macro')\n",
    "    \n",
    "    return f_score\n",
    "\n",
    "# New functions\n",
    "def aggregate_crop_predictions(arr, splits, agg_func, softmax=True, **kwargs):\n",
    "    \"\"\"\n",
    "    \"\"\"\n",
    "    if softmax:\n",
    "        arr -= np.max(arr, axis=1, keepdims=True)\n",
    "        arr_exp = np.exp(arr)\n",
    "        arr = (arr_exp / np.sum(arr_exp, axis=1, keepdims=True))\n",
    "    arr = np.split(arr, np.cumsum(splits)[:-1])\n",
    "    return np.array([agg_func(sig[:, 0]) for sig in arr])\n",
    "\n",
    "def use_metrics(iteration, experiment, ppl):\n",
    "    metrics = experiment[ppl].pipeline.get_variable('metrics')\n",
    "    f1 = metrics.evaluate('f1_score', multiclass='macro')\n",
    "    return f1"
   ]
  },
  {
   "cell_type": "code",
   "execution_count": 3,
   "metadata": {},
   "outputs": [],
   "source": [
    "# Paths to the data\n",
    "PATH = \"/home/master/repos/ecg/cardio/tests/data/\"#\"/notebooks/data/ECG/training2017\" # Change this path for your data dicrectory\n",
    "SIGNALS_MASK = os.path.join(PATH, \"A*.hea\")\n",
    "LABELS_PATH = os.path.join(PATH, \"REFERENCE.csv\")"
   ]
  },
  {
   "cell_type": "code",
   "execution_count": 4,
   "metadata": {},
   "outputs": [],
   "source": [
    "# Creating dataset\n",
    "eds = EcgDataset(path=SIGNALS_MASK, no_ext=True, sort=True)\n",
    "eds.split(0.5, shuffle=False)#eds.split(0.8, shuffle=False)"
   ]
  },
  {
   "cell_type": "code",
   "execution_count": 25,
   "metadata": {},
   "outputs": [],
   "source": [
    "# Setting training constants\n",
    "BATCH_SIZE = 6#32\n",
    "EPOCHS = 20\n",
    "TEST_EACH_EPOCH = 20\n",
    "TRAIN_SIZE = len(eds.train)\n",
    "ITERATIONS = ((TRAIN_SIZE // BATCH_SIZE) + 1) * EPOCHS\n",
    "TEST_EXEC_FOR = ITERATIONS // EPOCHS * TEST_EACH_EPOCH\n",
    "STR_EXEC = '%{}'.format(TEST_EXEC_FOR)"
   ]
  },
  {
   "cell_type": "code",
   "execution_count": 26,
   "metadata": {},
   "outputs": [],
   "source": [
    "# Defining models configurations\n",
    "model_config = {\n",
    "    'inputs': dict(signals={'shape': F(lambda batch: batch.signal[0].shape[1:])},\n",
    "                   labels={'classes': ['A', 'NO'], 'transform': 'ohe', 'name': 'targets'}),\n",
    "    'input_block/inputs': 'signals',\n",
    "    \"loss\": \"ce\",\n",
    "    \"input_block/filters\": C('input_filters'),\n",
    "    \"body/block/layout\": C('layout'),\n",
    "    \"body/filters\": C('filters'),\n",
    "    \"body/num_blocks\": C('blocks'),\n",
    "    \"session/config\": tf.ConfigProto(allow_soft_placement=True),\n",
    "    \"device\": C(\"device\"),\n",
    "    \"optimizer\": \"Adam\",\n",
    "}"
   ]
  },
  {
   "cell_type": "code",
   "execution_count": 7,
   "metadata": {},
   "outputs": [],
   "source": [
    "# Setting pipelines"
   ]
  },
  {
   "cell_type": "code",
   "execution_count": 27,
   "metadata": {},
   "outputs": [],
   "source": [
    "# Trainig\n",
    "root_train = (\n",
    "  ds.Pipeline()\n",
    "    .load(components=[\"signal\", \"meta\"], fmt=\"wfdb\")\n",
    "    .load(components=\"target\", fmt=\"csv\", src=LABELS_PATH)\n",
    "    .drop_labels([\"~\"])\n",
    "    .rename_labels({\"N\": \"NO\", \"O\": \"NO\"})\n",
    "    .apply_to_each_channel(center_flip)\n",
    "    .random_resample_signals(\"normal\", loc=300, scale=10)\n",
    "    .random_split_signals(3000, {\"A\": 6, \"NO\": 2})\n",
    "    .apply_transform(func=np.transpose, src='signal', dst='signal', axes=[0, 2, 1])\n",
    ").run(BATCH_SIZE, shuffle=True, drop_last=True, n_epochs=None, lazy=True)\n",
    "\n",
    "model_train = (\n",
    "  ds.Pipeline()\n",
    "    .init_variable('loss', init_on_each_run=list)\n",
    "    .init_model('dynamic', C('model'), 'model', config=model_config)\n",
    "    .train_model('model',\n",
    "                 make_data=make_data,\n",
    "                 fetches=[\"loss\"],\n",
    "                 save_to=[V(\"loss\")], mode=\"w\")\n",
    ")"
   ]
  },
  {
   "cell_type": "code",
   "execution_count": 113,
   "metadata": {},
   "outputs": [],
   "source": [
    "# Testing\n",
    "root_test = (\n",
    "  ds.Pipeline()\n",
    "    .load(components=[\"signal\", \"meta\"], fmt=\"wfdb\")\n",
    "    .load(components=\"target\", fmt=\"csv\", src=LABELS_PATH)\n",
    "    .drop_labels([\"~\"])\n",
    "    .rename_labels({\"N\": \"NO\", \"O\": \"NO\"})\n",
    "    .apply_to_each_channel(center_flip)\n",
    "    .split_signals(3000, 3000)\n",
    "    .apply_transform(func=np.transpose, src='signal', dst='signal', axes=[0, 2, 1])\n",
    ").run(BATCH_SIZE, shuffle=True, drop_last=True, n_epochs=1, lazy=True)\n",
    "\n",
    "model_test = (\n",
    "  ds.Pipeline()\n",
    "    .apply_transform(src=\"signal\", dst=\"splits\", func=lambda x: [x.shape[0]])\n",
    "    .import_model(\"model\", C(\"import_from\"))\n",
    "    .init_variable(\"metrics\", init_on_each_run=None)\n",
    "    .init_variable(\"predictions\", init_on_each_run=list)\n",
    "    .init_variable(\"targets\", init_on_each_run=list)\n",
    "    .init_variable(\"splits\", init_on_each_run=list)\n",
    "    .predict_model(\"model\", make_data=make_data,\n",
    "                   fetches=[\"predictions\", \"targets\"], \n",
    "                   save_to=[B('predictions'), B(\"targets\")])\n",
    "    .update_variable(\"predictions\", B('predictions'), mode='a')\n",
    "    .update_variable(\"targets\", B('targets'), mode='a')\n",
    "    .update_variable(\"splits\", B('splits'), mode='a')\n",
    "    .apply_transform_all(func=aggregate_crop_predictions,\n",
    "                         src='predictions', dst='predictions', \n",
    "                         splits=B('splits'), agg_func=np.mean)\n",
    "    .apply_transform_all(func=aggregate_crop_predictions, \n",
    "                         src='targets', dst='targets',\n",
    "                         splits=B('splits'), softmax=False, agg_func=np.max)\n",
    "    .gather_metrics('class', targets=B('targets'), predictions=B('predictions'),\n",
    "                    fmt='proba', save_to=V('metrics'), mode='a')\n",
    ")"
   ]
  },
  {
   "cell_type": "code",
   "execution_count": 29,
   "metadata": {},
   "outputs": [],
   "source": [
    "model_op2 = Option('model', [ResNet])\n",
    "layout_op2 = Option('layout', ['cna'])\n",
    "input_filters_op2 = Option('input_filters', [8])\n",
    "blocks_op2 = Option('blocks', [[1, 1, 1, 1, 1, 1, 1]])\n",
    "filters_op2 = Option('filters', [[4, 4, 8, 8, 16, 16, 20]])\n",
    "grid = model_op2 * layout_op2 * input_filters_op2 * blocks_op2 * filters_op2"
   ]
  },
  {
   "cell_type": "code",
   "execution_count": 30,
   "metadata": {},
   "outputs": [],
   "source": [
    "#######################################"
   ]
  },
  {
   "cell_type": "code",
   "execution_count": 123,
   "metadata": {},
   "outputs": [
    {
     "name": "stderr",
     "output_type": "stream",
     "text": [
      " 98%|█████████▊| 49/50 [00:08<00:00,  5.59it/s]\n"
     ]
    }
   ],
   "source": [
    "c = next(grid.gen_configs())\n",
    "c = c.config()\n",
    "\n",
    "pplt = (root_train + model_train)\n",
    "pplt.set_config(c)\n",
    "pplt_tr = (pplt << eds ).run(batch_size=6, n_epochs=50, bar=True)"
   ]
  },
  {
   "cell_type": "code",
   "execution_count": 124,
   "metadata": {},
   "outputs": [
    {
     "data": {
      "text/plain": [
       "0.6384768"
      ]
     },
     "execution_count": 124,
     "metadata": {},
     "output_type": "execute_result"
    }
   ],
   "source": [
    "pplt_tr.get_variable('loss')"
   ]
  },
  {
   "cell_type": "code",
   "execution_count": 125,
   "metadata": {},
   "outputs": [],
   "source": [
    "c = next(grid.gen_configs())\n",
    "c = c.config()\n",
    "c['import_from'] = pplt_tr\n",
    "\n",
    "pplts = (root_test + model_test)\n",
    "pplts.set_config(c)\n",
    "pplts_tr = (pplts << eds).run(batch_size=6, n_epochs=1, shuffle=False)\n",
    "b = (pplts << eds).next_batch(6, shuffle=False)"
   ]
  },
  {
   "cell_type": "code",
   "execution_count": 126,
   "metadata": {},
   "outputs": [],
   "source": [
    "m = pplts_tr.get_variable('metrics')"
   ]
  },
  {
   "cell_type": "code",
   "execution_count": 127,
   "metadata": {},
   "outputs": [
    {
     "data": {
      "text/plain": [
       "array([[0, 1, 1, 1, 1, 0]], dtype=int8)"
      ]
     },
     "execution_count": 127,
     "metadata": {},
     "output_type": "execute_result"
    }
   ],
   "source": [
    "m.predictions"
   ]
  },
  {
   "cell_type": "code",
   "execution_count": 128,
   "metadata": {},
   "outputs": [
    {
     "data": {
      "text/plain": [
       "array([[0, 0, 1, 1, 0, 0]], dtype=int8)"
      ]
     },
     "execution_count": 128,
     "metadata": {},
     "output_type": "execute_result"
    }
   ],
   "source": [
    "m.targets"
   ]
  },
  {
   "cell_type": "code",
   "execution_count": 129,
   "metadata": {},
   "outputs": [
    {
     "data": {
      "text/plain": [
       "0.6666666666666666"
      ]
     },
     "execution_count": 129,
     "metadata": {},
     "output_type": "execute_result"
    }
   ],
   "source": [
    "m.f1_score(multiclass='macro')"
   ]
  },
  {
   "cell_type": "code",
   "execution_count": 131,
   "metadata": {},
   "outputs": [
    {
     "data": {
      "text/plain": [
       "0.6666666666666666"
      ]
     },
     "execution_count": 131,
     "metadata": {},
     "output_type": "execute_result"
    }
   ],
   "source": [
    "m.f1_score(multiclass='micro')"
   ]
  },
  {
   "cell_type": "code",
   "execution_count": 132,
   "metadata": {},
   "outputs": [],
   "source": [
    "from sklearn.metrics import f1_score"
   ]
  },
  {
   "cell_type": "code",
   "execution_count": 133,
   "metadata": {},
   "outputs": [
    {
     "data": {
      "text/plain": [
       "0.3333333333333333"
      ]
     },
     "execution_count": 133,
     "metadata": {},
     "output_type": "execute_result"
    }
   ],
   "source": [
    "f1_score(m.targets, m.predictions, average='macro')"
   ]
  },
  {
   "cell_type": "code",
   "execution_count": 134,
   "metadata": {},
   "outputs": [
    {
     "data": {
      "text/plain": [
       "0.6666666666666666"
      ]
     },
     "execution_count": 134,
     "metadata": {},
     "output_type": "execute_result"
    }
   ],
   "source": [
    "f1_score(m.targets, m.predictions, average='micro')"
   ]
  },
  {
   "cell_type": "code",
   "execution_count": null,
   "metadata": {},
   "outputs": [],
   "source": []
  },
  {
   "cell_type": "code",
   "execution_count": 15,
   "metadata": {},
   "outputs": [],
   "source": [
    "######################################"
   ]
  },
  {
   "cell_type": "code",
   "execution_count": 16,
   "metadata": {},
   "outputs": [],
   "source": [
    "# Define research options\n",
    "# model_op1 = Option('model', [ResNet18, ResNet34])\n",
    "# model_op2 = Option('model', [ResNetCustom])\n",
    "\n",
    "# layout_op1 = Option('layout', ['cnacna'])\n",
    "# layout_op2 = Option('layout', ['cna', 'cnacna'])\n",
    "\n",
    "# input_filters_op1 = Option('input_filters', [64])\n",
    "# input_filters_op2 = Option('input_filters', [32, 8])\n",
    "\n",
    "# blocks_op1= Option('blocks', [[2, 2, 2, 2], [3, 4, 6, 3]])\n",
    "# blocks_op2 = Option('blocks', [[2, 3, 4, 5, 4, 3, 2], [2, 2, 2, 2, 2, 2, 2],\n",
    "#                                [1, 1, 1, 1, 1, 1, 1]])\n",
    "\n",
    "# filters_op1 = Option('filters', [[64, 128, 256, 512], [64, 128, 256, 512]])\n",
    "# filters_op2 = Option('filters', [[4, 8, 16, 32, 64, 128, 256], [4, 4, 8, 8, 16, 16, 20]])\n",
    "\n",
    "# grid = (Option.product(model_op1, blocks_op1, filters_op1) * layout_op1 * input_filters_op1 + \n",
    "#         model_op2 * layout_op2 * input_filters_op2 * blocks_op2 * filters_op2)"
   ]
  },
  {
   "cell_type": "code",
   "execution_count": 17,
   "metadata": {},
   "outputs": [],
   "source": [
    "mr = (\n",
    "    Research()\n",
    "    .pipeline(root_train << eds#.train\n",
    "              , model_train,\n",
    "              variables=[\"loss\"], name=\"train\", dump=STR_EXEC)\n",
    "    .pipeline(root_test << eds#.test\n",
    "              , model_test,\n",
    "              name=\"test\", execute=STR_EXEC, dump=STR_EXEC,\n",
    "              import_from=\"train\", run=True)\n",
    "    .function(calc_f1_score, returns='f_score', name='f_score',\n",
    "              execute=STR_EXEC, dump=STR_EXEC, ppl='test')\n",
    "    .function(use_metrics, returns='metrics_f1', name='metrics_f1',\n",
    "              execute=STR_EXEC, dump=STR_EXEC, ppl='test')\n",
    "    .function(get_trainable_variables, returns='trainable_variables', \n",
    "              name='trainable_variables', execute=1, dump=1, ppl='train')\n",
    "    .grid(grid)\n",
    ")"
   ]
  },
  {
   "cell_type": "code",
   "execution_count": 18,
   "metadata": {},
   "outputs": [
    {
     "name": "stdout",
     "output_type": "stream",
     "text": [
      "Research metrics_test is starting...\n"
     ]
    },
    {
     "name": "stderr",
     "output_type": "stream",
     "text": [
      "\r",
      "  0%|          | 0/200 [00:00<?, ?it/s]"
     ]
    },
    {
     "name": "stdout",
     "output_type": "stream",
     "text": [
      "Distributor has 1 jobs with 200 iterations. Totally: 200\n",
      "WARNING:tensorflow:From ../../cardio/dataset/dataset/models/tf/layers/pooling.py:150: calling reduce_mean (from tensorflow.python.ops.math_ops) with keep_dims is deprecated and will be removed in a future version.\n",
      "Instructions for updating:\n",
      "keep_dims is deprecated, use keepdims instead\n",
      "WARNING:tensorflow:From /home/master/.local/lib/python3.6/site-packages/tensorflow/python/ops/losses/losses_impl.py:691: softmax_cross_entropy_with_logits (from tensorflow.python.ops.nn_ops) is deprecated and will be removed in a future version.\n",
      "Instructions for updating:\n",
      "\n",
      "Future major versions of TensorFlow will allow gradients to flow\n",
      "into the labels input on backprop by default.\n",
      "\n",
      "See tf.nn.softmax_cross_entropy_with_logits_v2.\n",
      "\n"
     ]
    },
    {
     "name": "stderr",
     "output_type": "stream",
     "text": [
      "100%|██████████| 200/200 [00:31<00:00,  6.39it/s]\n"
     ]
    },
    {
     "data": {
      "text/plain": [
       "<cardio.dataset.research.research.Research at 0x7f77843e9fd0>"
      ]
     },
     "execution_count": 18,
     "metadata": {},
     "output_type": "execute_result"
    }
   ],
   "source": [
    "mr.run(n_reps=1, n_iters=ITERATIONS, workers=1, #gpu=[1, 2, 4, 5, 6, 7], \n",
    "       branches=1, name='metrics_test', progress_bar=True)"
   ]
  }
 ],
 "metadata": {
  "kernelspec": {
   "display_name": "Python 3",
   "language": "python",
   "name": "python3"
  },
  "language_info": {
   "codemirror_mode": {
    "name": "ipython",
    "version": 3
   },
   "file_extension": ".py",
   "mimetype": "text/x-python",
   "name": "python",
   "nbconvert_exporter": "python",
   "pygments_lexer": "ipython3",
   "version": "3.6.5"
  }
 },
 "nbformat": 4,
 "nbformat_minor": 2
}
