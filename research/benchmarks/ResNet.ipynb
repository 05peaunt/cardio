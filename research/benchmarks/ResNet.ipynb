{
 "cells": [
  {
   "cell_type": "code",
   "execution_count": 1,
   "metadata": {},
   "outputs": [
    {
     "name": "stderr",
     "output_type": "stream",
     "text": [
      "/usr/local/lib/python3.5/dist-packages/h5py/__init__.py:36: FutureWarning: Conversion of the second argument of issubdtype from `float` to `np.floating` is deprecated. In future, it will be treated as `np.float64 == np.dtype(float).type`.\n",
      "  from ._conv import register_converters as _register_converters\n"
     ]
    }
   ],
   "source": [
    "# imports\n",
    "import os\n",
    "import sys\n",
    "\n",
    "sys.path.append(\"../../\")\n",
    "\n",
    "import numpy as np\n",
    "import tensorflow as tf\n",
    "from numba import njit\n",
    "\n",
    "from cardio import EcgDataset\n",
    "from cardio import dataset as ds\n",
    "from cardio.dataset import best_practice\n",
    "from cardio.dataset import F, B, C, V, Config\n",
    "from cardio.dataset.research import KV, Grid, Option, Research\n",
    "\n",
    "from cardio.dataset.models.tf import ResNet, ResNet18, ResNet34"
   ]
  },
  {
   "cell_type": "markdown",
   "metadata": {},
   "source": [
    "# Setting up"
   ]
  },
  {
   "cell_type": "code",
   "execution_count": 2,
   "metadata": {},
   "outputs": [],
   "source": [
    "# Adding CustomResNet model\n",
    "class ResNetCustom(ResNet):\n",
    "    pass\n",
    "#     @classmethod\n",
    "#     def default_config(cls):\n",
    "#         config = ResNet.default_config()\n",
    "#         return config"
   ]
  },
  {
   "cell_type": "code",
   "execution_count": 3,
   "metadata": {},
   "outputs": [],
   "source": [
    "# Helper functions\n",
    "def make_data(batch, **kwagrs):\n",
    "    import numpy as np\n",
    "    n_reps = [signal.shape[0] for signal in batch.signal]\n",
    "    signals = np.array([segment for signal in batch.signal for segment in signal])\n",
    "    targets = np.repeat(batch.target, n_reps, axis=0)\n",
    "    return {\"feed_dict\": {'signals': signals, 'labels': targets}}\n",
    "\n",
    "# Flipping for augmentation\n",
    "@njit(nogil=True)\n",
    "def center_flip(signal):\n",
    "    return np.random.choice(np.array([1, -1])) * (signal - np.mean(signal))\n",
    "\n",
    "# Checking for number of parameters in the model\n",
    "def get_trainable_variables(iteration, experiment, ppl, model_name=\"model\"):\n",
    "    return experiment[ppl].pipeline.get_model_by_name(model_name).get_number_of_trainable_vars()\n",
    "\n",
    "# Calculation F1 score on the test data\n",
    "def calc_f1_score(iteration, experiment, ppl, agg_func=np.mean, threshold=0.5):\n",
    "    \"\"\"Calculates F1 score after run of test pipeline usnig its variables.\"\"\"\n",
    "    from sklearn import metrics\n",
    "    import numpy as np\n",
    "    \n",
    "    predictions = np.concatenate(experiment[ppl].pipeline.get_variable('predictions'))\n",
    "    targets = np.concatenate(experiment[ppl].pipeline.get_variable('targets'))\n",
    "    splits = np.concatenate(experiment[ppl].pipeline.get_variable('splits'))\n",
    "\n",
    "    def safe_softmax(preds):\n",
    "        preds -= np.max(preds, axis=1, keepdims=True)\n",
    "        preds_exp = np.exp(preds)\n",
    "        return (preds_exp / np.sum(preds_exp, axis=1, keepdims=True))\n",
    "    \n",
    "    predictions = safe_softmax(predictions)\n",
    "\n",
    "    def split_agg(vec, splits, agg_func):\n",
    "        vec = np.split(vec, np.cumsum(splits)[:-1])\n",
    "        return np.array([agg_func(sig[:, 0]) for sig in vec])\n",
    "\n",
    "    predictions = split_agg(predictions, splits, agg_func)\n",
    "    targets = split_agg(targets, splits, agg_func)\n",
    "    \n",
    "    f_score = metrics.f1_score(targets, predictions>threshold, average='macro')\n",
    "    \n",
    "    return f_score"
   ]
  },
  {
   "cell_type": "code",
   "execution_count": 4,
   "metadata": {},
   "outputs": [],
   "source": [
    "# Paths to the data\n",
    "PATH = \"/notebooks/data/ECG/training2017\" # Change this path for your data dicrectory\n",
    "SIGNALS_MASK = os.path.join(PATH, \"A*.hea\")\n",
    "LABELS_PATH = os.path.join(PATH, \"REFERENCE.csv\")"
   ]
  },
  {
   "cell_type": "code",
   "execution_count": 5,
   "metadata": {},
   "outputs": [],
   "source": [
    "# Creating dataset\n",
    "eds = EcgDataset(path=SIGNALS_MASK, no_ext=True, sort=True)\n",
    "eds.split(0.8, shuffle=False)"
   ]
  },
  {
   "cell_type": "code",
   "execution_count": 6,
   "metadata": {},
   "outputs": [],
   "source": [
    "# Setting training constants\n",
    "BATCH_SIZE = 32\n",
    "EPOCHS = 300\n",
    "TEST_EACH_EPOCH = 10\n",
    "TRAIN_SIZE = len(eds.train)\n",
    "ITERATIONS = ((TRAIN_SIZE // BATCH_SIZE) + 1) * EPOCHS\n",
    "TEST_EXEC_FOR = ITERATIONS // EPOCHS * TEST_EACH_EPOCH\n",
    "STR_EXEC = '%{}'.format(TEST_EXEC_FOR)"
   ]
  },
  {
   "cell_type": "code",
   "execution_count": 7,
   "metadata": {},
   "outputs": [],
   "source": [
    "# Defining models configurations\n",
    "model_config = {\n",
    "    'inputs': dict(signals={'shape': F(lambda batch: batch.signal[0].shape[1:])},\n",
    "                   labels={'classes': ['A', 'NO'], 'transform': 'ohe', 'name': 'targets'}),\n",
    "    'input_block/inputs': 'signals',\n",
    "    \"loss\": \"ce\",\n",
    "    \"input_block/filters\": C('input_filters'),\n",
    "    \"body/block/layout\": C('layout'),\n",
    "    \"body/filters\": C('filters'),\n",
    "    \"body/num_blocks\": C('blocks'),\n",
    "    \"session/config\": tf.ConfigProto(allow_soft_placement=True),\n",
    "    \"device\": C(\"device\"),\n",
    "    \"optimizer\": \"Adam\",\n",
    "}"
   ]
  },
  {
   "cell_type": "code",
   "execution_count": 8,
   "metadata": {},
   "outputs": [],
   "source": [
    "# Setting pipelines"
   ]
  },
  {
   "cell_type": "code",
   "execution_count": 9,
   "metadata": {},
   "outputs": [],
   "source": [
    "# Trainig\n",
    "root_train = (\n",
    "  ds.Pipeline()\n",
    "    .load(components=[\"signal\", \"meta\"], fmt=\"wfdb\")\n",
    "    .load(components=\"target\", fmt=\"csv\", src=LABELS_PATH)\n",
    "    .drop_labels([\"~\"])\n",
    "    .rename_labels({\"N\": \"NO\", \"O\": \"NO\"})\n",
    "    .apply_to_each_channel(center_flip)\n",
    "    .random_resample_signals(\"normal\", loc=300, scale=10)\n",
    "    .random_split_signals(3000, {\"A\": 6, \"NO\": 2})\n",
    "    .apply_transform(func=np.transpose, src='signal', dst='signal', axes=[0, 2, 1])\n",
    ").run(BATCH_SIZE, shuffle=True, drop_last=True, n_epochs=None, lazy=True)\n",
    "\n",
    "model_train = (\n",
    "  ds.Pipeline()\n",
    "    .init_variable('loss', init_on_each_run=list)\n",
    "    .init_model('dynamic', C('model'), 'model', config=model_config)\n",
    "    .train_model('model',\n",
    "                 make_data=make_data,\n",
    "                 fetches=[\"loss\"],\n",
    "                 save_to=[V(\"loss\")], mode=\"w\"\n",
    "                )\n",
    ")\n",
    "\n",
    "# Testing\n",
    "root_test = (\n",
    "  ds.Pipeline()\n",
    "    .load(components=[\"signal\", \"meta\"], fmt=\"wfdb\")\n",
    "    .load(components=\"target\", fmt=\"csv\", src=LABELS_PATH)\n",
    "    .drop_labels([\"~\"])\n",
    "    .rename_labels({\"N\": \"NO\", \"O\": \"NO\"})\n",
    "    .apply_to_each_channel(center_flip)\n",
    "    .split_signals(3000, 3000)\n",
    "    .apply_transform(func=np.transpose, src='signal', dst='signal', axes=[0, 2, 1])\n",
    ").run(BATCH_SIZE, shuffle=True, drop_last=True, n_epochs=1, lazy=True)\n",
    "\n",
    "model_test = (\n",
    "  ds.Pipeline()\n",
    "    .init_variable(\"splits\", init_on_each_run=list)\n",
    "    .apply_transform(src=\"signal\", dst=\"splits\", func=lambda x: [x.shape[0]])\n",
    "    .update_variable(\"splits\", B(\"splits\"), mode=\"a\")\n",
    "    .import_model(\"model\", C(\"import_from\"))\n",
    "    .init_variable(\"targets\", init_on_each_run=list)\n",
    "    .init_variable(\"predictions\", init_on_each_run=list)\n",
    "    .predict_model(\"model\", make_data=make_data,\n",
    "                 fetches=[\"predictions\", \"targets\"], \n",
    "                 save_to=[V(\"predictions\"), \n",
    "                          V(\"targets\")], mode=\"a\")\n",
    ")"
   ]
  },
  {
   "cell_type": "code",
   "execution_count": 10,
   "metadata": {},
   "outputs": [],
   "source": [
    "# Define research options\n",
    "model_op1 = Option('model', [ResNet18, ResNet34])\n",
    "model_op2 = Option('model', [ResNetCustom])\n",
    "\n",
    "layout_op1 = Option('layout', ['cnacna'])\n",
    "layout_op2 = Option('layout', ['cna', 'cnacna'])\n",
    "\n",
    "# input_filters_kv = KV(\"model_config/input_block/filters\", \"input_filters\")\n",
    "input_filters_op1 = Option('input_filters', [64])\n",
    "input_filters_op2 = Option('input_filters', [32, 8])\n",
    "\n",
    "#blocks_kv = KV(\"model_config/body/num_blocks\", \"blocks\")\n",
    "blocks_op1= Option('blocks', [[2, 2, 2, 2], [3, 4, 6, 3]])\n",
    "blocks_op2 = Option('blocks', [[2, 3, 4, 5, 4, 3, 2], [2, 2, 2, 2, 2, 2, 2],\n",
    "                               [1, 1, 1, 1, 1, 1, 1]])\n",
    "\n",
    "# filters_kv = KV(\"model_config/body/filters\", \"filters\")\n",
    "filters_op1 = Option('filters', [[64, 128, 256, 512], [64, 128, 256, 512]])\n",
    "filters_op2 = Option('filters', [[4, 8, 16, 32, 64, 128, 256], [4, 4, 8, 8, 16, 16, 20]])\n",
    "\n",
    "grid = (#Option.product(model_op1, blocks_op1, filters_op1) * layout_op1 * input_filters_op1 + \n",
    "        model_op2 * layout_op2 * input_filters_op2 * blocks_op2 * filters_op2)"
   ]
  },
  {
   "cell_type": "code",
   "execution_count": 11,
   "metadata": {},
   "outputs": [],
   "source": [
    "mr = (\n",
    "    Research()\n",
    "    .pipeline(root_train << eds.train, model_train,\n",
    "              variables=[\"loss\"], name=\"train\", dump=STR_EXEC)\n",
    "    .pipeline(root_test << eds.test, model_test,\n",
    "              name=\"test\", execute=STR_EXEC, dump=STR_EXEC,\n",
    "              import_from=\"train\", run=True)\n",
    "    .function(calc_f1_score, returns='f_score', name='f_score',\n",
    "              execute=STR_EXEC, dump=STR_EXEC, ppl='test')\n",
    "    .function(get_trainable_variables, returns='trainable_variables', \n",
    "              name='trainable_variables', execute=1, dump=1, ppl='train')\n",
    "    .grid(grid)\n",
    ")"
   ]
  },
  {
   "cell_type": "code",
   "execution_count": null,
   "metadata": {},
   "outputs": [
    {
     "name": "stdout",
     "output_type": "stream",
     "text": [
      "Research CustomResNetResearch_300ep is starting...\n"
     ]
    },
    {
     "name": "stderr",
     "output_type": "stream",
     "text": [
      "  0%|          | 0/7704000 [00:00<?, ?it/s]"
     ]
    },
    {
     "name": "stdout",
     "output_type": "stream",
     "text": [
      "Distributor has 120 jobs with 64200 iterations. Totally: 7704000\n",
      "WARNING:tensorflow:From /usr/local/lib/python3.5/dist-packages/tensorflow/python/util/deprecation.py:497: calling conv1d (from tensorflow.python.ops.nn_ops) with data_format=NHWC is deprecated and will be removed in a future version.\n",
      "Instructions for updating:\n",
      "`NHWC` for data_format is deprecated, use `NWC` instead\n",
      "WARNING:tensorflow:From /usr/local/lib/python3.5/dist-packages/tensorflow/python/util/deprecation.py:497: calling conv1d (from tensorflow.python.ops.nn_ops) with data_format=NHWC is deprecated and will be removed in a future version.\n",
      "Instructions for updating:\n",
      "`NHWC` for data_format is deprecated, use `NWC` instead\n",
      "WARNING:tensorflow:From ../../cardio/dataset/dataset/models/tf/layers/pooling.py:150: calling reduce_mean (from tensorflow.python.ops.math_ops) with keep_dims is deprecated and will be removed in a future version.\n",
      "Instructions for updating:\n",
      "keep_dims is deprecated, use keepdims instead\n",
      "WARNING:tensorflow:From /usr/local/lib/python3.5/dist-packages/tensorflow/python/ops/losses/losses_impl.py:731: softmax_cross_entropy_with_logits (from tensorflow.python.ops.nn_ops) is deprecated and will be removed in a future version.\n",
      "Instructions for updating:\n",
      "\n",
      "Future major versions of TensorFlow will allow gradients to flow\n",
      "into the labels input on backprop by default.\n",
      "\n",
      "See tf.nn.softmax_cross_entropy_with_logits_v2.\n",
      "\n",
      "WARNING:tensorflow:From /usr/local/lib/python3.5/dist-packages/tensorflow/python/util/deprecation.py:497: calling conv1d (from tensorflow.python.ops.nn_ops) with data_format=NHWC is deprecated and will be removed in a future version.\n",
      "Instructions for updating:\n",
      "`NHWC` for data_format is deprecated, use `NWC` instead\n",
      "WARNING:tensorflow:From ../../cardio/dataset/dataset/models/tf/layers/pooling.py:150: calling reduce_mean (from tensorflow.python.ops.math_ops) with keep_dims is deprecated and will be removed in a future version.\n",
      "Instructions for updating:\n",
      "keep_dims is deprecated, use keepdims instead\n",
      "WARNING:tensorflow:From /usr/local/lib/python3.5/dist-packages/tensorflow/python/ops/losses/losses_impl.py:731: softmax_cross_entropy_with_logits (from tensorflow.python.ops.nn_ops) is deprecated and will be removed in a future version.\n",
      "Instructions for updating:\n",
      "\n",
      "Future major versions of TensorFlow will allow gradients to flow\n",
      "into the labels input on backprop by default.\n",
      "\n",
      "See tf.nn.softmax_cross_entropy_with_logits_v2.\n",
      "\n",
      "WARNING:tensorflow:From ../../cardio/dataset/dataset/models/tf/layers/pooling.py:150: calling reduce_mean (from tensorflow.python.ops.math_ops) with keep_dims is deprecated and will be removed in a future version.\n",
      "Instructions for updating:\n",
      "keep_dims is deprecated, use keepdims instead\n",
      "WARNING:tensorflow:From /usr/local/lib/python3.5/dist-packages/tensorflow/python/ops/losses/losses_impl.py:731: softmax_cross_entropy_with_logits (from tensorflow.python.ops.nn_ops) is deprecated and will be removed in a future version.\n",
      "Instructions for updating:\n",
      "\n",
      "Future major versions of TensorFlow will allow gradients to flow\n",
      "into the labels input on backprop by default.\n",
      "\n",
      "See tf.nn.softmax_cross_entropy_with_logits_v2.\n",
      "\n",
      "WARNING:tensorflow:From /usr/local/lib/python3.5/dist-packages/tensorflow/python/util/deprecation.py:497: calling conv1d (from tensorflow.python.ops.nn_ops) with data_format=NHWC is deprecated and will be removed in a future version.\n",
      "Instructions for updating:\n",
      "`NHWC` for data_format is deprecated, use `NWC` instead\n",
      "WARNING:tensorflow:From ../../cardio/dataset/dataset/models/tf/layers/pooling.py:150: calling reduce_mean (from tensorflow.python.ops.math_ops) with keep_dims is deprecated and will be removed in a future version.\n",
      "Instructions for updating:\n",
      "keep_dims is deprecated, use keepdims instead\n",
      "WARNING:tensorflow:From /usr/local/lib/python3.5/dist-packages/tensorflow/python/ops/losses/losses_impl.py:731: softmax_cross_entropy_with_logits (from tensorflow.python.ops.nn_ops) is deprecated and will be removed in a future version.\n",
      "Instructions for updating:\n",
      "\n",
      "Future major versions of TensorFlow will allow gradients to flow\n",
      "into the labels input on backprop by default.\n",
      "\n",
      "See tf.nn.softmax_cross_entropy_with_logits_v2.\n",
      "\n",
      "WARNING:tensorflow:From /usr/local/lib/python3.5/dist-packages/tensorflow/python/util/deprecation.py:497: calling conv1d (from tensorflow.python.ops.nn_ops) with data_format=NHWC is deprecated and will be removed in a future version.\n",
      "Instructions for updating:\n",
      "`NHWC` for data_format is deprecated, use `NWC` instead\n",
      "WARNING:tensorflow:From ../../cardio/dataset/dataset/models/tf/layers/pooling.py:150: calling reduce_mean (from tensorflow.python.ops.math_ops) with keep_dims is deprecated and will be removed in a future version.\n",
      "Instructions for updating:\n",
      "keep_dims is deprecated, use keepdims instead\n",
      "WARNING:tensorflow:From /usr/local/lib/python3.5/dist-packages/tensorflow/python/ops/losses/losses_impl.py:731: softmax_cross_entropy_with_logits (from tensorflow.python.ops.nn_ops) is deprecated and will be removed in a future version.\n",
      "Instructions for updating:\n",
      "\n",
      "Future major versions of TensorFlow will allow gradients to flow\n",
      "into the labels input on backprop by default.\n",
      "\n",
      "See tf.nn.softmax_cross_entropy_with_logits_v2.\n",
      "\n",
      "WARNING:tensorflow:From /usr/local/lib/python3.5/dist-packages/tensorflow/python/util/deprecation.py:497: calling conv1d (from tensorflow.python.ops.nn_ops) with data_format=NHWC is deprecated and will be removed in a future version.\n",
      "Instructions for updating:\n",
      "`NHWC` for data_format is deprecated, use `NWC` instead\n",
      "WARNING:tensorflow:From ../../cardio/dataset/dataset/models/tf/layers/pooling.py:150: calling reduce_mean (from tensorflow.python.ops.math_ops) with keep_dims is deprecated and will be removed in a future version.\n",
      "Instructions for updating:\n",
      "keep_dims is deprecated, use keepdims instead\n",
      "WARNING:tensorflow:From /usr/local/lib/python3.5/dist-packages/tensorflow/python/ops/losses/losses_impl.py:731: softmax_cross_entropy_with_logits (from tensorflow.python.ops.nn_ops) is deprecated and will be removed in a future version.\n",
      "Instructions for updating:\n",
      "\n",
      "Future major versions of TensorFlow will allow gradients to flow\n",
      "into the labels input on backprop by default.\n",
      "\n",
      "See tf.nn.softmax_cross_entropy_with_logits_v2.\n",
      "\n"
     ]
    },
    {
     "name": "stderr",
     "output_type": "stream",
     "text": [
      "  0%|          | 4206/7704000 [02:02<62:06:49, 34.43it/s]"
     ]
    }
   ],
   "source": [
    "mr.run(n_reps=5, n_iters=ITERATIONS, workers=6, gpu=[1, 2, 4, 5, 6, 7], \n",
    "       branches=1, name='CustomResNetResearch_300ep', progress_bar=True)"
   ]
  },
  {
   "cell_type": "code",
   "execution_count": null,
   "metadata": {},
   "outputs": [],
   "source": []
  }
 ],
 "metadata": {
  "kernelspec": {
   "display_name": "Python 3",
   "language": "python",
   "name": "python3"
  },
  "language_info": {
   "codemirror_mode": {
    "name": "ipython",
    "version": 3
   },
   "file_extension": ".py",
   "mimetype": "text/x-python",
   "name": "python",
   "nbconvert_exporter": "python",
   "pygments_lexer": "ipython3",
   "version": "3.5.2"
  }
 },
 "nbformat": 4,
 "nbformat_minor": 2
}
