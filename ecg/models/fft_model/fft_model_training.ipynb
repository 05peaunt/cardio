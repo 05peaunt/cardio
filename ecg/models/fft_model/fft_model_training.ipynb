{
 "cells": [
  {
   "cell_type": "code",
   "execution_count": 1,
   "metadata": {},
   "outputs": [
    {
     "name": "stdout",
     "output_type": "stream",
     "text": [
      "Tue Sep 26 12:37:40 2017       \r\n",
      "+-----------------------------------------------------------------------------+\r\n",
      "| NVIDIA-SMI 375.26                 Driver Version: 375.26                    |\r\n",
      "|-------------------------------+----------------------+----------------------+\r\n",
      "| GPU  Name        Persistence-M| Bus-Id        Disp.A | Volatile Uncorr. ECC |\r\n",
      "| Fan  Temp  Perf  Pwr:Usage/Cap|         Memory-Usage | GPU-Util  Compute M. |\r\n",
      "|===============================+======================+======================|\r\n",
      "|   0  GeForce GTX 1080    Off  | 0000:02:00.0     Off |                  N/A |\r\n",
      "|  0%   36C    P8    14W / 200W |      0MiB /  8113MiB |      0%      Default |\r\n",
      "+-------------------------------+----------------------+----------------------+\r\n",
      "|   1  GeForce GTX 1080    Off  | 0000:03:00.0     Off |                  N/A |\r\n",
      "|  0%   34C    P8    15W / 200W |      0MiB /  8112MiB |      0%      Default |\r\n",
      "+-------------------------------+----------------------+----------------------+\r\n",
      "                                                                               \r\n",
      "+-----------------------------------------------------------------------------+\r\n",
      "| Processes:                                                       GPU Memory |\r\n",
      "|  GPU       PID  Type  Process name                               Usage      |\r\n",
      "|=============================================================================|\r\n",
      "|  No running processes found                                                 |\r\n",
      "+-----------------------------------------------------------------------------+\r\n"
     ]
    }
   ],
   "source": [
    "!nvidia-smi"
   ]
  },
  {
   "cell_type": "code",
   "execution_count": 2,
   "metadata": {},
   "outputs": [
    {
     "name": "stderr",
     "output_type": "stream",
     "text": [
      "Using TensorFlow backend.\n"
     ]
    },
    {
     "name": "stdout",
     "output_type": "stream",
     "text": [
      "env: CUDA_VISIBLE_DEVICES=0\n"
     ]
    }
   ],
   "source": [
    "import matplotlib.pyplot as plt\n",
    "\n",
    "from sklearn.metrics import f1_score\n",
    "import tensorflow as tf\n",
    "import numpy as np\n",
    "import sys\n",
    "import os\n",
    "\n",
    "sys.path.append(os.path.join(\"..\", \"..\", \"..\"))\n",
    "import ecg.dataset as ds\n",
    "from ecg.batch import ModelEcgBatch\n",
    "\n",
    "%env CUDA_VISIBLE_DEVICES=0\n",
    "config = tf.ConfigProto()\n",
    "config.gpu_options.per_process_gpu_memory_fraction = 0.33\n",
    "config.gpu_options.allow_growth=True"
   ]
  },
  {
   "cell_type": "code",
   "execution_count": 3,
   "metadata": {
    "collapsed": true
   },
   "outputs": [],
   "source": [
    "fft_train_pipeline = (ds.Pipeline()\n",
    "                      .init_variable(\"loss\", init=list)\n",
    "                      .load(fmt=\"wfdb\", components=[\"signal\", \"meta\"])\n",
    "                      .load(src=\"/notebooks/data/ECG/training2017/REFERENCE.csv\",\n",
    "                            fmt=\"csv\", components=\"target\")\n",
    "                      .drop_labels([\"~\"])\n",
    "                      .replace_labels({\"N\": \"NO\", \"O\": \"NO\"})\n",
    "                      .random_resample_signals(\"normal\", loc=300, scale=10)\n",
    "                      .drop_short_signals(4000)\n",
    "                      .segment_signals(3000, 3000)\n",
    "                      .binarize_labels()\n",
    "                      .signal_transpose([0, 2, 1])\n",
    "                      .ravel()\n",
    "                      .train_on_batch('fft_inception', metrics=f1_score, average='macro')\n",
    "                      .run(batch_size=300, shuffle=True,\n",
    "                           drop_last=True, n_epochs=1, prefetch=0, lazy=True))"
   ]
  },
  {
   "cell_type": "code",
   "execution_count": 4,
   "metadata": {},
   "outputs": [
    {
     "name": "stderr",
     "output_type": "stream",
     "text": [
      "/usr/local/lib/python3.5/dist-packages/sklearn/metrics/classification.py:1135: UndefinedMetricWarning: F-score is ill-defined and being set to 0.0 in labels with no predicted samples.\n",
      "  'precision', 'predicted', average, warn_for)\n"
     ]
    }
   ],
   "source": [
    "index = ds.FilesIndex(path=\"/notebooks/data/ECG/training2017/*.hea\", no_ext=True, sort=True)\n",
    "eds = ds.Dataset(index, batch_class=ModelEcgBatch)\n",
    "eds.cv_split(0.8)\n",
    "res = (eds.test >> fft_train_pipeline).run()"
   ]
  },
  {
   "cell_type": "code",
   "execution_count": 5,
   "metadata": {},
   "outputs": [
    {
     "data": {
      "text/plain": [
       "[0.69373888, 0.69205081, 0.69044971, 0.68812984, 0.68632752]"
      ]
     },
     "execution_count": 5,
     "metadata": {},
     "output_type": "execute_result"
    }
   ],
   "source": [
    "res.get_variable('loss')"
   ]
  },
  {
   "cell_type": "code",
   "execution_count": 6,
   "metadata": {},
   "outputs": [
    {
     "data": {
      "text/plain": [
       "{'train_loss': [0.69373888, 0.69205081, 0.69044971, 0.68812984, 0.68632752],\n",
       " 'train_metric': [0.47539975399753998,\n",
       "  0.47764095917044719,\n",
       "  0.47332421340629272,\n",
       "  0.47590759075907596,\n",
       "  0.46508563899868249],\n",
       " 'val_loss': [],\n",
       " 'val_metric': []}"
      ]
     },
     "execution_count": 6,
     "metadata": {},
     "output_type": "execute_result"
    }
   ],
   "source": [
    "res.get_model_by_name('fft_inception').hist"
   ]
  },
  {
   "cell_type": "code",
   "execution_count": 7,
   "metadata": {
    "collapsed": true
   },
   "outputs": [],
   "source": [
    "fft_test_pipeline = (ds.Pipeline()\n",
    "                     .init_variable(\"loss\", init=list)\n",
    "                     .load(fmt=\"wfdb\", components=[\"signal\", \"meta\"])\n",
    "                     .load(src=\"/notebooks/data/ECG/training2017/REFERENCE.csv\",\n",
    "                           fmt=\"csv\", components=\"target\")\n",
    "                     .drop_labels([\"~\"])\n",
    "                     .replace_labels({\"N\": \"NO\", \"O\": \"NO\"})\n",
    "                     .random_resample_signals(\"normal\", loc=300, scale=10)\n",
    "                     .drop_short_signals(4000)\n",
    "                     .segment_signals(3000, 3000)\n",
    "                     .binarize_labels()\n",
    "                     .signal_transpose([0, 2, 1])\n",
    "                     .ravel()\n",
    "                     .test_on_batch('fft_inception', metrics=f1_score, average='macro')\n",
    "                     .run(batch_size=300, shuffle=True, drop_last=True,\n",
    "                          n_epochs=1, prefetch=0, lazy=True))"
   ]
  },
  {
   "cell_type": "code",
   "execution_count": 8,
   "metadata": {},
   "outputs": [
    {
     "name": "stderr",
     "output_type": "stream",
     "text": [
      "/usr/local/lib/python3.5/dist-packages/sklearn/metrics/classification.py:1135: UndefinedMetricWarning: F-score is ill-defined and being set to 0.0 in labels with no predicted samples.\n",
      "  'precision', 'predicted', average, warn_for)\n"
     ]
    }
   ],
   "source": [
    "res_test = (eds.test >> fft_test_pipeline).run()"
   ]
  },
  {
   "cell_type": "code",
   "execution_count": 9,
   "metadata": {},
   "outputs": [],
   "source": [
    "fft_predict_pipeline = (ds.Pipeline()\n",
    "                        .init_variable(\"prediction\", [])\n",
    "                        .load(fmt=\"wfdb\", components=[\"signal\", \"meta\"])\n",
    "                        .load(src=\"/notebooks/data/ECG/training2017/REFERENCE.csv\", fmt=\"csv\", components=\"target\")\n",
    "                        .drop_labels([\"~\"])\n",
    "                        .replace_labels({\"N\": \"NO\", \"O\": \"NO\"})\n",
    "                        .random_resample_signals(\"normal\", loc=300, scale=10)\n",
    "                        .drop_short_signals(4000)\n",
    "                        .segment_signals(3000, 3000)\n",
    "                        .binarize_labels()\n",
    "                        .signal_transpose([0, 2, 1])\n",
    "                        .ravel()\n",
    "                        .predict_on_batch('fft_inception')\n",
    "                        .run(batch_size=100, shuffle=False, drop_last=False,\n",
    "                             n_epochs=1, prefetch=0, lazy=True))"
   ]
  },
  {
   "cell_type": "code",
   "execution_count": 13,
   "metadata": {
    "collapsed": true
   },
   "outputs": [],
   "source": [
    "res_predict = (eds.test >> fft_predict_pipeline).run()"
   ]
  },
  {
   "cell_type": "code",
   "execution_count": 15,
   "metadata": {},
   "outputs": [
    {
     "data": {
      "text/plain": [
       "(286, 2)"
      ]
     },
     "execution_count": 15,
     "metadata": {},
     "output_type": "execute_result"
    }
   ],
   "source": [
    "res_predict.get_variable('prediction')[0].shape"
   ]
  }
 ],
 "metadata": {
  "kernelspec": {
   "display_name": "Python 3",
   "language": "python",
   "name": "python3"
  },
  "language_info": {
   "codemirror_mode": {
    "name": "ipython",
    "version": 3
   },
   "file_extension": ".py",
   "mimetype": "text/x-python",
   "name": "python",
   "nbconvert_exporter": "python",
   "pygments_lexer": "ipython3",
   "version": "3.5.2"
  }
 },
 "nbformat": 4,
 "nbformat_minor": 2
}
