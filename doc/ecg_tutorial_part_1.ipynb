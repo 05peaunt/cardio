{
 "cells": [
  {
   "cell_type": "markdown",
   "metadata": {},
   "source": [
    "# ECG data"
   ]
  },
  {
   "cell_type": "markdown",
   "metadata": {},
   "source": [
    "In this tutorial you will work with ECG data. We suggest loading ECG data from PhysioNet database of short single lead ECG recording. Follow this [link](https://physionet.org/challenge/2017/) and find archive \"training2017.zip\" or use [direct](https://physionet.org/challenge/2017/training2017.zip) link. \n",
    "\n",
    "The PhysioNet archive contains 8.528 ECGs in [wfdb](https://www.physionet.org/physiotools/wpg/wpg_35.htm) format. Each ECG has a unique index ranging from \"A00001\" to \"A08528\". According to wbdf format ECG record has 2 files with ```.hea``` and ```.mat``` extensions. File ```.hea``` contains signal, while ```.mat``` contains meta information about the signal (e.g. sample rate). \n",
    "\n",
    "Since the acrhive was prepared for arrhythmia classification it also contains file REFERENCE.csv, where each ECG index is labeled with one of four classes:\n",
    "* Normal rhythm\n",
    "* AF\n",
    "* Other rhythm\n",
    "* Noise\n",
    "\n",
    "Read [here](https://physionet.org/challenge/2017/) more on PhysioNet database."
   ]
  },
  {
   "cell_type": "markdown",
   "metadata": {},
   "source": [
    "# Create a dataset of ecg"
   ]
  },
  {
   "cell_type": "markdown",
   "metadata": {},
   "source": [
    "In Notebook 1 we explain how to create a [dataset](https://github.com/analysiscenter/dataset/) of ECGs and give very basic examples how to use dataset. "
   ]
  },
  {
   "cell_type": "markdown",
   "metadata": {},
   "source": [
    "## Index ecg"
   ]
  },
  {
   "cell_type": "markdown",
   "metadata": {},
   "source": [
    "Working with ECG begins with ```FilesIndex```. ```FilesIndex``` contains index and location of each ECG record we want to process. \n",
    "\n",
    "Let all ECGs be stored in wfdb format in folder with path 'data/ECG'. Let's create a new ```FilesIndex``` with all ECGs from this folder."
   ]
  },
  {
   "cell_type": "code",
   "execution_count": 1,
   "metadata": {},
   "outputs": [
    {
     "name": "stderr",
     "output_type": "stream",
     "text": [
      "Using TensorFlow backend.\n"
     ]
    }
   ],
   "source": [
    "import sys\n",
    "import os\n",
    "sys.path.append(os.path.join(\"..\"))\n",
    "\n",
    "import cardio.dataset as ds\n",
    "index = ds.FilesIndex(path=\"data/ECG/*.hea\", no_ext=True, sort=True)"
   ]
  },
  {
   "cell_type": "markdown",
   "metadata": {},
   "source": [
    "Now each ECG is indexed with its filename. Indices are stored in ```index.indices```:"
   ]
  },
  {
   "cell_type": "code",
   "execution_count": 2,
   "metadata": {},
   "outputs": [
    {
     "name": "stdout",
     "output_type": "stream",
     "text": [
      "['A00001' 'A00002' 'A00003' ..., 'A08526' 'A08527' 'A08528']\n"
     ]
    }
   ],
   "source": [
    "print(index.indices)"
   ]
  },
  {
   "cell_type": "markdown",
   "metadata": {},
   "source": [
    "## Init dataset"
   ]
  },
  {
   "cell_type": "markdown",
   "metadata": {},
   "source": [
    "We have ```index``` that knows which ECGs we want to process and a class [EcgBatch](https://github.com/analysiscenter/cardio/blob/master/doc/batch.md) that knows how to process ECGs. Combining it together we obtain a dataset:"
   ]
  },
  {
   "cell_type": "code",
   "execution_count": 3,
   "metadata": {},
   "outputs": [
    {
     "name": "stderr",
     "output_type": "stream",
     "text": [
      "Using TensorFlow backend.\n"
     ]
    }
   ],
   "source": [
    "from cardio import EcgBatch\n",
    "eds = ds.Dataset(index, batch_class=EcgBatch)"
   ]
  },
  {
   "cell_type": "markdown",
   "metadata": {},
   "source": [
    "## Start using dataset"
   ]
  },
  {
   "cell_type": "markdown",
   "metadata": {},
   "source": [
    "Let's generate a first batch of size 1000:"
   ]
  },
  {
   "cell_type": "code",
   "execution_count": 4,
   "metadata": {
    "collapsed": true
   },
   "outputs": [],
   "source": [
    "batch = eds.next_batch(1000)"
   ]
  },
  {
   "cell_type": "markdown",
   "metadata": {},
   "source": [
    "Up to now ```batch``` does not contain any data, only indices and paths to ECGs. "
   ]
  },
  {
   "cell_type": "markdown",
   "metadata": {},
   "source": [
    "## Apply action"
   ]
  },
  {
   "cell_type": "markdown",
   "metadata": {},
   "source": [
    "Any preprocess begins with loading of data. Therefore, the first example is action ```load```. Note that paths to ECGs are already in batch, so simply inticate data format and component we want to load. We load components ```signal```  and  ```meta```:"
   ]
  },
  {
   "cell_type": "code",
   "execution_count": 5,
   "metadata": {
    "collapsed": true
   },
   "outputs": [],
   "source": [
    "batch_with_data = batch.load(fmt=\"wfdb\", components=[\"signal\", \"meta\"])"
   ]
  },
  {
   "cell_type": "markdown",
   "metadata": {},
   "source": [
    "Now ```batch_with_data``` contatains 1000 loaded ECGs. Any ECG record can be accessed by its index, e.g. ```batch['A00010']```. ECG signal and meta can be accessed as ```batch['A00010'].signal``` and ```batch['A00010'].meta``` correspondingly."
   ]
  },
  {
   "cell_type": "markdown",
   "metadata": {},
   "source": [
    "Let's plot signal from ECG with index```'A00010'```:"
   ]
  },
  {
   "cell_type": "code",
   "execution_count": 6,
   "metadata": {},
   "outputs": [
    {
     "data": {
      "image/png": "[encoded data removed]",
      "text/plain": [
       "<matplotlib.figure.Figure at 0x7f425210f4e0>"
      ]
     },
     "metadata": {},
     "output_type": "display_data"
    }
   ],
   "source": [
    "import matplotlib.pyplot as plt\n",
    "plt.plot(batch_with_data['A00010'].signal.ravel())\n",
    "plt.show()"
   ]
  },
  {
   "cell_type": "markdown",
   "metadata": {},
   "source": [
    "Any other action can be applied to ```batch_with_data``` in the same way, e.g. action ```flip_signals``` that flips signals whose R-peaks are directed downwards. Nore that ```flip_signals``` modifies batch inplace, so we first make a copy of original signal with R-peaks directed downwards:"
   ]
  },
  {
   "cell_type": "code",
   "execution_count": 7,
   "metadata": {
    "collapsed": true
   },
   "outputs": [],
   "source": [
    "original_signal = batch_with_data['A00112'].signal.copy()"
   ]
  },
  {
   "cell_type": "markdown",
   "metadata": {},
   "source": [
    "And then apply ```flip_signal``` action:"
   ]
  },
  {
   "cell_type": "code",
   "execution_count": 8,
   "metadata": {},
   "outputs": [
    {
     "data": {
      "text/plain": [
       "<ecg.batch.ecg_batch.EcgBatch at 0x7f426737e5c0>"
      ]
     },
     "execution_count": 8,
     "metadata": {},
     "output_type": "execute_result"
    }
   ],
   "source": [
    "batch_with_data.flip_signals()"
   ]
  },
  {
   "cell_type": "markdown",
   "metadata": {},
   "source": [
    "Now we can compare results:"
   ]
  },
  {
   "cell_type": "code",
   "execution_count": 9,
   "metadata": {},
   "outputs": [
    {
     "data": {
      "image/png": "[encoded data removed]",
      "text/plain": [
       "<matplotlib.figure.Figure at 0x7f42407aaf28>"
      ]
     },
     "metadata": {},
     "output_type": "display_data"
    }
   ],
   "source": [
    "flipped_signal = batch_with_data['A00112'].signal\n",
    "\n",
    "fig = plt.figure()\n",
    "\n",
    "ax = fig.add_subplot(121)\n",
    "ax.set_title('Original signal')\n",
    "plt.plot(original_signal.ravel())\n",
    "\n",
    "ax = fig.add_subplot(122)\n",
    "ax.set_title('Flipped signal')\n",
    "plt.plot(flipped_signal.ravel())\n",
    "plt.show()"
   ]
  },
  {
   "cell_type": "markdown",
   "metadata": {},
   "source": [
    "Summarizing, in Notebook 1 we learned:\n",
    "* how to get ECG data\n",
    "* how to create datasets\n",
    "* how to apply actions.\n",
    "\n",
    "In the next [Notebook 2](https://github.com/analysiscenter/cardio/blob/master/doc/ecg_tutorial_part_2.ipynb) we will combine actions in pipeline."
   ]
  }
 ],
 "metadata": {
  "kernelspec": {
   "display_name": "Python 3",
   "language": "python",
   "name": "python3"
  },
  "language_info": {
   "codemirror_mode": {
    "name": "ipython",
    "version": 3
   },
   "file_extension": ".py",
   "mimetype": "text/x-python",
   "name": "python",
   "nbconvert_exporter": "python",
   "pygments_lexer": "ipython3",
   "version": "3.5.2"
  }
 },
 "nbformat": 4,
 "nbformat_minor": 2
}
