{
 "cells": [
  {
   "cell_type": "markdown",
   "metadata": {},
   "source": [
    "# Create and run pipelines"
   ]
  },
  {
   "cell_type": "markdown",
   "metadata": {},
   "source": [
    "In part 2 we learn pipelines. Pipeline is a sequence of actions we want to apply to batch. At first we describe what we want to do with batch. Then at some point in the code we pass dataset to pipeline and the caclucations actually run. Such \"lazy run\" makes code compact and clear."
   ]
  },
  {
   "cell_type": "markdown",
   "metadata": {},
   "source": [
    "## Define pipeline"
   ]
  },
  {
   "cell_type": "markdown",
   "metadata": {},
   "source": [
    "The following example shows how to define a pipeline. It simply lists actions:"
   ]
  },
  {
   "cell_type": "code",
   "execution_count": null,
   "metadata": {
    "collapsed": true
   },
   "outputs": [],
   "source": [
    "preprocess_pipeline = (ds.Pipeline()\n",
    "                       .load(fmt=\"wfdb\", components=[\"signal\", \"meta\"])\n",
    "                       .random_resample_signals(\"normal\", loc=300, scale=10)\n",
    "                       .drop_short_signals(4000)\n",
    "                       .segment_signals(3000, 3000)\n",
    "                       .run(batch_size=300, n_epochs=None, lazy=True))"
   ]
  },
  {
   "cell_type": "markdown",
   "metadata": {},
   "source": [
    "The only thing to be clarified is the last action ```run```. We set parameter ```lazy=True``` since we want to run pipeline somewhere later. When we actually run this pipeline it will load batches of size ```batch_size``` and apply actions of pipeline. Iteration stops when no ecgs are left. "
   ]
  },
  {
   "cell_type": "markdown",
   "metadata": {},
   "source": [
    "## Run pipeline"
   ]
  },
  {
   "cell_type": "markdown",
   "metadata": {},
   "source": [
    "To start caclulation we pass ecg dataset into pipeline and call action ```run```:"
   ]
  },
  {
   "cell_type": "code",
   "execution_count": null,
   "metadata": {
    "collapsed": true
   },
   "outputs": [],
   "source": [
    "processed = (eds >> preprocess_pipeline).run()"
   ]
  },
  {
   "cell_type": "markdown",
   "metadata": {},
   "source": [
    "Note that transformed ecgs are NOT assigned to ```processed```, which is a pipeline again. To save results we should add ```dump``` action to pipeline or save result into pipeline variable. How to work with pipeline variables we explain in the next part of tutorial."
   ]
  },
  {
   "cell_type": "markdown",
   "metadata": {},
   "source": [
    "## Add custom action"
   ]
  },
  {
   "cell_type": "markdown",
   "metadata": {},
   "source": [
    "Suppose you want to include in a pipeline a new action called ```add_value``` that adds given value to each signal.\n",
    "We start with two decorators. Decorator ```action``` enables to use the function in pipeline. Decorator ```inbatch_parallel``` splits batch into individual ecgs and process each ecg in a separate thread. Under these decorators function ```add_value``` obtains index of ecg and every parameter passed from pipeline.  Function ```add_value``` do the following things: gets position of ecg in batch by index and add value to signal. Combining it together be obtain the desired action:\n",
    "\n",
    "```python\n",
    "@ds.action\n",
    "@ds.inbatch_parallel(init=\"indices\", target=\"threads\")\n",
    "def add_value(self, index, value):\n",
    "    i = self.get_pos(None, \"signal\", index)\n",
    "    self.signal[i] += value\n",
    "```\n",
    "Action ```add_value``` now can be included in pipeline:\n",
    "```python\n",
    "ppl = (eds.pipeline()\n",
    "       .do_some_actions_before()\n",
    "       .add_value(0.01)\n",
    "       .do_some_actions_after())\n",
    "```"
   ]
  },
  {
   "cell_type": "markdown",
   "metadata": {},
   "source": [
    "In the next [part 3]() we will overview various methods of EcgBatch."
   ]
  }
 ],
 "metadata": {
  "kernelspec": {
   "display_name": "Python 3",
   "language": "python",
   "name": "python3"
  },
  "language_info": {
   "codemirror_mode": {
    "name": "ipython",
    "version": 3
   },
   "file_extension": ".py",
   "mimetype": "text/x-python",
   "name": "python",
   "nbconvert_exporter": "python",
   "pygments_lexer": "ipython3",
   "version": "3.5.2"
  }
 },
 "nbformat": 4,
 "nbformat_minor": 2
}
