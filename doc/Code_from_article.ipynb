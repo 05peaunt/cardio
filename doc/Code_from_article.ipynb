{
 "cells": [
  {
   "cell_type": "markdown",
   "metadata": {},
   "source": [
    "This notebook is a part of article [CardIO framework for deep research of electrocardiograms](https://medium.com/data-analysis-center/cardio-framework-for-deep-research-of-electrocardiograms-2a38a0673b8e) and contains code blocks from this article."
   ]
  },
  {
   "cell_type": "markdown",
   "metadata": {},
   "source": [
    "Some general imports"
   ]
  },
  {
   "cell_type": "code",
   "execution_count": 1,
   "metadata": {},
   "outputs": [
    {
     "name": "stderr",
     "output_type": "stream",
     "text": [
      "Using TensorFlow backend.\n"
     ]
    }
   ],
   "source": [
    "import os\n",
    "import sys\n",
    "\n",
    "import matplotlib.pyplot as plt\n",
    "import numpy as np\n",
    "import tensorflow as tf\n",
    "\n",
    "sys.path.append(os.path.join(\"..\", \"..\", \"..\"))\n",
    "import ecg.dataset as ds\n",
    "from ecg.batch import ModelEcgBatch\n",
    "from ecg.models.metrics import classification_report"
   ]
  },
  {
   "cell_type": "markdown",
   "metadata": {},
   "source": [
    "Create indices from filenames"
   ]
  },
  {
   "cell_type": "code",
   "execution_count": 2,
   "metadata": {
    "collapsed": true
   },
   "outputs": [],
   "source": [
    "# import CardIO.dataset as ds\n",
    "# index = ds.FilesIndex(path=\"ecg/tests/data/*.hea\", no_ext=True, sort=True)\n",
    "index = ds.FilesIndex(path=\"/notebooks/e_illarionov/ecg_master/ecg/ecg/tests/data/*.hea\", no_ext=True, sort=True)"
   ]
  },
  {
   "cell_type": "markdown",
   "metadata": {},
   "source": [
    "Check which indices are in list of indices"
   ]
  },
  {
   "cell_type": "code",
   "execution_count": 3,
   "metadata": {},
   "outputs": [
    {
     "name": "stdout",
     "output_type": "stream",
     "text": [
      "['A00001' 'A00002' 'A00004' 'A00005' 'A00008' 'A00013']\n"
     ]
    }
   ],
   "source": [
    "print(index.indices)"
   ]
  },
  {
   "cell_type": "markdown",
   "metadata": {},
   "source": [
    "Create dataset"
   ]
  },
  {
   "cell_type": "code",
   "execution_count": 4,
   "metadata": {},
   "outputs": [],
   "source": [
    "# from CardIO.batch import ModelEcgBatch\n",
    "# eds = ds.Dataset(index, batch_class=ModelEcgBatch)\n",
    "eds = ds.Dataset(index, batch_class=ModelEcgBatch)"
   ]
  },
  {
   "cell_type": "markdown",
   "metadata": {},
   "source": [
    "Generate batch"
   ]
  },
  {
   "cell_type": "code",
   "execution_count": 5,
   "metadata": {},
   "outputs": [],
   "source": [
    "batch = eds.next_batch(batch_size=2)"
   ]
  },
  {
   "cell_type": "markdown",
   "metadata": {},
   "source": [
    "Fill batch with data"
   ]
  },
  {
   "cell_type": "code",
   "execution_count": 6,
   "metadata": {
    "collapsed": true
   },
   "outputs": [],
   "source": [
    "batch_with_data = batch.load(fmt=\"wfdb\", components=[\"signal\", \"meta\"])"
   ]
  },
  {
   "cell_type": "markdown",
   "metadata": {},
   "source": [
    "Plot short segment of ECG with index 'A00001'"
   ]
  },
  {
   "cell_type": "code",
   "execution_count": 11,
   "metadata": {},
   "outputs": [
    {
     "data": {
      "image/png": "[encoded data removed]",
      "text/plain": [
       "<matplotlib.figure.Figure at 0x7fa3c1532940>"
      ]
     },
     "metadata": {},
     "output_type": "display_data"
    }
   ],
   "source": [
    "signal = batch_with_data['A00001'].signal.ravel()\n",
    "time = np.arange(len(signal)) / batch_with_data['A00001'].meta['fs']\n",
    "plt.plot(time, signal)\n",
    "plt.xlabel('Time (s)'), plt.ylabel('Amplitude (mV)')\n",
    "plt.xlim([10, 15]), plt.grid()\n",
    "plt.show()"
   ]
  },
  {
   "cell_type": "markdown",
   "metadata": {},
   "source": [
    "Run pipeline for detection of QRS intervals, P-waves and T-waves"
   ]
  },
  {
   "cell_type": "code",
   "execution_count": 8,
   "metadata": {
    "collapsed": true
   },
   "outputs": [],
   "source": [
    "# from CardIO.pipelines import calc_ecg_parameters\n",
    "# res = (eds >> calc_ecg_parameters()).run(batch_size=2, n_epochs=1)\n",
    "\n",
    "f = np.load('/notebooks/e_illarionov/ecg_master/ecg/ecg/tests/A00001_annotation.npz')\n",
    "hmm = f['arr_0']\n",
    "\n",
    "def find_intervals_borders(hmm_annotation, inter_val):\n",
    "    \"\"\" Finds starts and ends of the intervals with values from inter_val.\n",
    "\n",
    "    Parameters\n",
    "    ----------\n",
    "    hmm_annotation : numpy.array\n",
    "        Annotation for the signal from hmm_annotation model.\n",
    "    inter_val : array_like\n",
    "        Values that form interval of interest.\n",
    "\n",
    "    Returns\n",
    "    -------\n",
    "    starts : numpy.array\n",
    "        Indices of the starts of the intervals.\n",
    "    ends : numpy.array\n",
    "        Indices of the ens of the intervals.\n",
    "    \"\"\"\n",
    "    intervals = [1 if x in inter_val else 0 for x in hmm_annotation]\n",
    "    masque = np.diff(intervals)\n",
    "    starts = (np.argwhere(masque == 1).flatten() + 1)\n",
    "    ends = (np.argwhere(masque == -1).flatten() + 1)\n",
    "    if hmm_annotation[0] in inter_val:\n",
    "        ends = ends[1:]\n",
    "    if hmm_annotation[-1] in inter_val:\n",
    "        starts = starts[:-1]\n",
    "    return starts.tolist(), ends.tolist()\n",
    "\n",
    "qrs = find_intervals_borders(hmm, [0, 1, 2])\n",
    "pq = find_intervals_borders(hmm, [14, 15, 16])\n",
    "qt = find_intervals_borders(hmm, [5, 6, 7, 8, 9, 10])"
   ]
  },
  {
   "cell_type": "markdown",
   "metadata": {},
   "source": [
    "Plot ECG signal with detected QRS intervals, P-waves and T-waves"
   ]
  },
  {
   "cell_type": "code",
   "execution_count": 10,
   "metadata": {},
   "outputs": [
    {
     "data": {
      "image/png": "[encoded data removed]",
      "text/plain": [
       "<matplotlib.figure.Figure at 0x7fa3c1520518>"
      ]
     },
     "metadata": {},
     "output_type": "display_data"
    }
   ],
   "source": [
    "plt.plot(time, signal)\n",
    "for xmin, xmax in np.array(qrs).T:\n",
    "    plt.axvspan(time[xmin], time[xmax], facecolor='red', alpha=0.3)\n",
    "for xmin, xmax in np.array(pq).T:\n",
    "    plt.axvspan(time[xmin], time[xmax], facecolor='orange', alpha=0.3)\n",
    "for xmin, xmax in np.array(qt).T:\n",
    "    plt.axvspan(time[xmin], time[xmax], facecolor='blue', alpha=0.3)\n",
    "plt.xlabel('Time (s)'), plt.ylabel('Amplitude (mV)')\n",
    "plt.xlim([10, 15]), plt.grid()\n",
    "plt.show()"
   ]
  },
  {
   "cell_type": "markdown",
   "metadata": {},
   "source": [
    "Run pipeline for prediction of atrial fibrillation"
   ]
  },
  {
   "cell_type": "code",
   "execution_count": 14,
   "metadata": {},
   "outputs": [
    {
     "name": "stdout",
     "output_type": "stream",
     "text": [
      "INFO:tensorflow:Restoring parameters from /notebooks/Kuvaev/dirichlet/dirichlet-34000\n"
     ]
    }
   ],
   "source": [
    "# from CardIO.pipelines import af_prediction_pipeline\n",
    "\n",
    "def af_prediction_pipeline():\n",
    "    model_path = \"/notebooks/Kuvaev/dirichlet/\"\n",
    "    last_model_path = tf.train.latest_checkpoint(model_path)\n",
    "    model_config = {\n",
    "        \"graph_path\": last_model_path + \".meta\",\n",
    "        \"checkpoint_path\": last_model_path,\n",
    "        \"classes_path\": last_model_path + \".dill\"\n",
    "    }\n",
    "    config = {\"dirichlet_pretrained\": model_config}\n",
    "    \n",
    "    return (ds.Pipeline(config=config)\n",
    "              .init_model(\"dirichlet_pretrained\")\n",
    "              .load(fmt=\"wfdb\", components=[\"signal\", \"meta\"])\n",
    "              .flip_signals()\n",
    "              .split_signals(2048, 512)\n",
    "              .predict_on_batch(\"dirichlet_pretrained\", predictions_var_name=\"predictions_list\")\n",
    "              .run(shuffle=False, drop_last=False, lazy=True))\n",
    "\n",
    "pipeline = af_prediction_pipeline()\n",
    "(eds >> pipeline).run(batch_size=2, n_epochs=1)\n",
    "res = pipeline.get_variable(\"predictions_list\")"
   ]
  },
  {
   "cell_type": "markdown",
   "metadata": {},
   "source": [
    "Get predicted probalilities for artrial fibrillation"
   ]
  },
  {
   "cell_type": "code",
   "execution_count": 15,
   "metadata": {},
   "outputs": [
    {
     "name": "stdout",
     "output_type": "stream",
     "text": [
      "[0.020612197, 0.61115807, 0.024541298, 0.016741527, 0.027645184, 0.87172413]\n"
     ]
    }
   ],
   "source": [
    "print([x['target_pred']['A'] for x in res])"
   ]
  }
 ],
 "metadata": {
  "kernelspec": {
   "display_name": "Python 3",
   "language": "python",
   "name": "python3"
  },
  "language_info": {
   "codemirror_mode": {
    "name": "ipython",
    "version": 3
   },
   "file_extension": ".py",
   "mimetype": "text/x-python",
   "name": "python",
   "nbconvert_exporter": "python",
   "pygments_lexer": "ipython3",
   "version": "3.5.2"
  }
 },
 "nbformat": 4,
 "nbformat_minor": 2
}
