{
 "cells": [
  {
   "cell_type": "markdown",
   "metadata": {},
   "source": [
    "# Run models"
   ]
  },
  {
   "cell_type": "markdown",
   "metadata": {},
   "source": [
    "In Notebook 3 we learn how to train built-in ECG models and make predictions. We consider [FFTModel](https://github.com/analysiscenter/cardio/blob/master/doc/fft_model.md) as an example. This model learns to recognize atrial fibrillation (AF) from single lead ECG signal. Input of the model is ECG signal and its meta, output is probability of signal being AF and non-AF. See more on ecg models [here](https://github.com/analysiscenter/cardio/blob/master/doc/models.md)."
   ]
  },
  {
   "cell_type": "markdown",
   "metadata": {},
   "source": [
    "Some necessary imports before to start. We import ```dataset``` that will generate batches, ```EcgBatch``` that will store ECG and ```FFTModel``` that contains model we will train."
   ]
  },
  {
   "cell_type": "code",
   "execution_count": 10,
   "metadata": {},
   "outputs": [
    {
     "name": "stdout",
     "output_type": "stream",
     "text": [
      "env: CUDA_VISIBLE_DEVICES=0\n"
     ]
    }
   ],
   "source": [
    "import numpy as np\n",
    "import matplotlib.pyplot as plt\n",
    "from sklearn.metrics import f1_score\n",
    "import sys\n",
    "sys.path.append(\"..\")\n",
    "\n",
    "import tensorflow as tf\n",
    "%env CUDA_VISIBLE_DEVICES=0\n",
    "config = tf.ConfigProto()\n",
    "config.gpu_options.per_process_gpu_memory_fraction = 0.33\n",
    "config.gpu_options.allow_growth=True\n",
    "\n",
    "import cardio.dataset as ds\n",
    "from cardio import EcgBatch\n",
    "\n",
    "from cardio.dataset import F, V, B\n",
    "from cardio.models.fft_model import FFTModel"
   ]
  },
  {
   "cell_type": "markdown",
   "metadata": {},
   "source": [
    "Next we create an ECG dataset (see [Notebook 1](https://github.com/analysiscenter/cardio/blob/master/tutorials/I.CardIO.ipynb) for details):"
   ]
  },
  {
   "cell_type": "code",
   "execution_count": 2,
   "metadata": {
    "collapsed": true
   },
   "outputs": [],
   "source": [
    "index = ds.FilesIndex(path=\"/notebooks/data/ECG/training2017/*.hea\", no_ext=True, sort=True)\n",
    "eds = ds.Dataset(index, batch_class=EcgBatch)"
   ]
  },
  {
   "cell_type": "markdown",
   "metadata": {},
   "source": [
    "Usually we want to divide the whole dataset into 2 parts that will be used for train and validation. Method ```cv_split``` do this job:"
   ]
  },
  {
   "cell_type": "code",
   "execution_count": 3,
   "metadata": {
    "collapsed": true
   },
   "outputs": [],
   "source": [
    "eds.cv_split(0.8, shuffle=True)"
   ]
  },
  {
   "cell_type": "markdown",
   "metadata": {},
   "source": [
    "Now 80% of the dataset are in ```eds.train``` and the rest are in ```eds.test```."
   ]
  },
  {
   "cell_type": "markdown",
   "metadata": {},
   "source": [
    "## Train pipeline"
   ]
  },
  {
   "cell_type": "markdown",
   "metadata": {},
   "source": [
    "Let's define a train pipeline. Pipeline is a sequence of actions that we want to apply, namely\n",
    "* initialize model, adjust it to the input signal shape, specify loss and optimizer\n",
    "* initialize variable that will store loss history\n",
    "* load signal, meta and target labels\n",
    "* drop noise signals\n",
    "* replace all non-AF labels with \"NO\" label\n",
    "* resample signal\n",
    "* drop too short signals\n",
    "* generate a number of segments from each signal\n",
    "* binarize labels to 0 and 1\n",
    "* prepare signal to expected model input format\n",
    "* train model."
   ]
  },
  {
   "cell_type": "code",
   "execution_count": null,
   "metadata": {
    "collapsed": true
   },
   "outputs": [],
   "source": [
    "model_config = {\n",
    "    \"input_shape\": F(lambda batch: batch.signal[0].shape),\n",
    "    \"loss\": \"binary_crossentropy\",\n",
    "    \"optimizer\": \"adam\"\n",
    "}\n",
    "\n",
    "def make_data(batch, **kwagrs):\n",
    "    return {'x': np.array(list(batch.signal)), 'y': batch.target}\n",
    "\n",
    "train_pipeline = (ds.Pipeline()\n",
    "                  .init_model(\"dynamic\", FFTModel, name=\"fft_model\", config=model_config)\n",
    "                  .init_variable(\"loss_history\", init=list)\n",
    "                  .load(fmt=\"wfdb\", components=[\"signal\", \"meta\"])\n",
    "                  .load(src=\"/notebooks/data/ECG/training2017/REFERENCE.csv\",\n",
    "                        fmt=\"csv\", components=\"target\")\n",
    "                  .drop_labels([\"~\"])\n",
    "                  .replace_labels({\"N\": \"NO\", \"O\": \"NO\"})\n",
    "                  .random_resample_signals(\"normal\", loc=300, scale=10)\n",
    "                  .drop_short_signals(4000)\n",
    "                  .split_signals(3000, 3000)\n",
    "                  .binarize_labels()\n",
    "                  .apply_transform('signal', 'signal', np.transpose, axes=[0, 2, 1])\n",
    "                  .ravel()\n",
    "                  .train_model('fft_model', make_data=make_data, save_to=V(\"loss_history\"), mode=\"a\"))"
   ]
  },
  {
   "cell_type": "markdown",
   "metadata": {},
   "source": [
    "Then we only have to pass the dataset to pipeline and run the calculation. Depending on your hardware training precess may take a while. Reduce ```n_epochs``` if you do not want to wait long:"
   ]
  },
  {
   "cell_type": "code",
   "execution_count": null,
   "metadata": {
    "collapsed": true
   },
   "outputs": [],
   "source": [
    "fft_trained = (eds.train >> train_pipeline).run(batch_size=300, shuffle=True,\n",
    "                                                drop_last=True, n_epochs=150)"
   ]
  },
  {
   "cell_type": "markdown",
   "metadata": {},
   "source": [
    "As a result we obtain ```fft_trained``` that contains trained model. Let's make a prediction!"
   ]
  },
  {
   "cell_type": "code",
   "execution_count": 12,
   "metadata": {},
   "outputs": [
    {
     "data": {
      "image/png": "[encoded data removed]",
      "text/plain": [
       "<matplotlib.figure.Figure at 0x7fbbea4ebac8>"
      ]
     },
     "metadata": {},
     "output_type": "display_data"
    }
   ],
   "source": [
    "import pandas as pd\n",
    "loss = pd.DataFrame(fft_trained.get_variable(\"loss_history\"), columns=[\"loss\"])\n",
    "loss[\"avr loss\"] = pd.DataFrame(loss).rolling(center=True, window=100).mean()\n",
    "loss.plot()\n",
    "plt.show()"
   ]
  },
  {
   "cell_type": "markdown",
   "metadata": {},
   "source": [
    "## Test pipeline"
   ]
  },
  {
   "cell_type": "markdown",
   "metadata": {},
   "source": [
    "Test pipeline is very similar to train pipeline except several things. First, rather than initialize a new model we import pretrained model from train_pipeline. Alternative option would be importing model from model dump. Second, we add new vairable ```true_targets``` than will keep targets from batch. Finally, we call model predict rather than model train."
   ]
  },
  {
   "cell_type": "code",
   "execution_count": 13,
   "metadata": {},
   "outputs": [],
   "source": [
    "test_pipeline = (ds.Pipeline()\n",
    "                 .import_model(\"fft_model\", fft_trained)\n",
    "                 .init_variable(\"pred_labels\", init=list)\n",
    "                 .init_variable(\"true_labels\", init=list)\n",
    "                 .load(fmt=\"wfdb\", components=[\"signal\", \"meta\"])\n",
    "                 .load(src=\"/notebooks/data/ECG/training2017/REFERENCE.csv\",\n",
    "                       fmt=\"csv\", components=\"target\")\n",
    "                 .drop_labels([\"~\"])\n",
    "                 .replace_labels({\"N\": \"NO\", \"O\": \"NO\"})\n",
    "                 .random_resample_signals(\"normal\", loc=300, scale=10)\n",
    "                 .drop_short_signals(4000)\n",
    "                 .split_signals(3000, 3000)\n",
    "                 .binarize_labels()\n",
    "                 .apply_transform('signal', 'signal', np.transpose, axes=[0, 2, 1])\n",
    "                 .ravel()\n",
    "                 .update_variable(\"true_labels\", B('target'), mode='e')\n",
    "                 .predict_model('fft_model', make_data=make_data, save_to=V(\"pred_labels\"), mode=\"e\"))"
   ]
  },
  {
   "cell_type": "markdown",
   "metadata": {},
   "source": [
    "Let's run prediction pipeline. Note we set ```n_epochs=1```:"
   ]
  },
  {
   "cell_type": "code",
   "execution_count": 14,
   "metadata": {
    "collapsed": true
   },
   "outputs": [],
   "source": [
    "res_test = (eds.test >> test_pipeline).run(batch_size=300, shuffle=False, drop_last=False,\n",
    "                                           n_epochs=1, prefetch=0)"
   ]
  },
  {
   "cell_type": "markdown",
   "metadata": {},
   "source": [
    "Now we can access true labels as ```res_test.get_variable(\"true_targets\")``` and predicted class probabilities\n",
    "as ```res_test.get_variable(\"pred_targets\")```. Consider several predicted values:"
   ]
  },
  {
   "cell_type": "code",
   "execution_count": 16,
   "metadata": {},
   "outputs": [
    {
     "data": {
      "text/plain": [
       "[array([ 0.29639828,  0.70360166], dtype=float32),\n",
       " array([ 0.13968237,  0.86031765], dtype=float32),\n",
       " array([ 0.41292176,  0.58707821], dtype=float32),\n",
       " array([ 0.11291089,  0.88708907], dtype=float32),\n",
       " array([ 0.66159785,  0.33840212], dtype=float32),\n",
       " array([ 0.74024159,  0.25975841], dtype=float32),\n",
       " array([  1.59851845e-06,   9.99998450e-01], dtype=float32),\n",
       " array([  7.56407772e-08,   9.99999881e-01], dtype=float32),\n",
       " array([ 0.02996131,  0.97003865], dtype=float32),\n",
       " array([  6.36563054e-04,   9.99363482e-01], dtype=float32)]"
      ]
     },
     "execution_count": 16,
     "metadata": {},
     "output_type": "execute_result"
    }
   ],
   "source": [
    "res_test.get_variable(\"pred_labels\")[:10]"
   ]
  },
  {
   "cell_type": "markdown",
   "metadata": {},
   "source": [
    "Here each column corresponds to class probality (AF or non-AF). To get class prediction we simply take most probable class. Metrics f1_score allows to estimate model quality: "
   ]
  },
  {
   "cell_type": "code",
   "execution_count": 18,
   "metadata": {},
   "outputs": [
    {
     "data": {
      "text/plain": [
       "0.8276607508394469"
      ]
     },
     "execution_count": 18,
     "metadata": {},
     "output_type": "execute_result"
    }
   ],
   "source": [
    "f1_score(np.array(res_test.get_variable(\"true_labels\"))[:, 0],\n",
    "         np.rint(res_test.get_variable(\"pred_labels\"))[:, 0], average='macro')"
   ]
  },
  {
   "cell_type": "markdown",
   "metadata": {},
   "source": [
    "This is the end of Notebook 3. Here we learned:\n",
    "* how to train models\n",
    "* how to test model quality.\n",
    "\n",
    "See previous topics in [Notebook 1](https://github.com/analysiscenter/cardio/blob/master/tutorials/I.CardIO.ipynb) and [Notebook 2](https://github.com/analysiscenter/cardio/blob/master/tutorials/II.Pipelines.ipynb)."
   ]
  }
 ],
 "metadata": {
  "kernelspec": {
   "display_name": "Python 3",
   "language": "python",
   "name": "python3"
  },
  "language_info": {
   "codemirror_mode": {
    "name": "ipython",
    "version": 3
   },
   "file_extension": ".py",
   "mimetype": "text/x-python",
   "name": "python",
   "nbconvert_exporter": "python",
   "pygments_lexer": "ipython3",
   "version": "3.5.2"
  }
 },
 "nbformat": 4,
 "nbformat_minor": 2
}
