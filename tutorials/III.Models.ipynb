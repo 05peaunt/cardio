{
 "cells": [
  {
   "cell_type": "markdown",
   "metadata": {},
   "source": [
    "# Run models"
   ]
  },
  {
   "cell_type": "markdown",
   "metadata": {},
   "source": [
    "In Notebook 3 we learn how to train and predict built-in ECG models. We consider [fft_inceprion](https://github.com/analysiscenter/cardio/blob/master/doc/fft_model.md) model as an example. This model learns to recognize atrial fibrillation (AF) from single lead ECG signal. Input of the model is ECG signal and meta, output is probability of signal being AF and non-AF. See more on ecg models [here](https://github.com/analysiscenter/cardio/blob/master/doc/models.md)."
   ]
  },
  {
   "cell_type": "markdown",
   "metadata": {},
   "source": [
    "Some necessary imports before to start. We import ```dataset``` that will generate batches, ```EcgBatch``` that will store ECG and ```FFTModel``` that contains model we will train."
   ]
  },
  {
   "cell_type": "code",
   "execution_count": 1,
   "metadata": {},
   "outputs": [
    {
     "name": "stdout",
     "output_type": "stream",
     "text": [
      "env: CUDA_VISIBLE_DEVICES=0\n"
     ]
    },
    {
     "name": "stderr",
     "output_type": "stream",
     "text": [
      "Using TensorFlow backend.\n"
     ]
    }
   ],
   "source": [
    "import numpy as np\n",
    "from sklearn.metrics import f1_score\n",
    "import sys\n",
    "import os\n",
    "sys.path.append(os.path.join(\"..\"))\n",
    "\n",
    "import tensorflow as tf\n",
    "%env CUDA_VISIBLE_DEVICES=0\n",
    "config = tf.ConfigProto()\n",
    "config.gpu_options.per_process_gpu_memory_fraction = 0.33\n",
    "config.gpu_options.allow_growth=True\n",
    "\n",
    "import cardio.dataset as ds\n",
    "from cardio import EcgBatch\n",
    "\n",
    "from cardio.dataset import F, V\n",
    "from cardio.models.fft_model import FFTModel"
   ]
  },
  {
   "cell_type": "markdown",
   "metadata": {},
   "source": [
    "Next we create an ECG dataset (see [Notebook 1](https://github.com/analysiscenter/cardio/blob/master/doc/ecg_tutorial_part_1.ipynb) for details):"
   ]
  },
  {
   "cell_type": "code",
   "execution_count": 2,
   "metadata": {},
   "outputs": [],
   "source": [
    "index = ds.FilesIndex(path=\"/notebooks/data/ECG/training2017/*.hea\", no_ext=True, sort=True)\n",
    "eds = ds.Dataset(index, batch_class=EcgBatch)"
   ]
  },
  {
   "cell_type": "markdown",
   "metadata": {},
   "source": [
    "Usually we want to divide the whole dataset into 2 parts that will be used for train and validation. Method ```cv_split``` do this job:"
   ]
  },
  {
   "cell_type": "code",
   "execution_count": 3,
   "metadata": {
    "collapsed": true
   },
   "outputs": [],
   "source": [
    "eds.cv_split(0.8, shuffle=True)"
   ]
  },
  {
   "cell_type": "markdown",
   "metadata": {},
   "source": [
    "Now 80% of the dataset are in ```eds.train``` and the rest are in ```eds.test```."
   ]
  },
  {
   "cell_type": "markdown",
   "metadata": {},
   "source": [
    "## Train pipeline"
   ]
  },
  {
   "cell_type": "markdown",
   "metadata": {},
   "source": [
    "Let's define a train pipeline. Pipeline is a declaration of actions that we want do, namely\n",
    "* initialize model, adjust it to the input signal shape, specify loss and optimizer\n",
    "* initialize variable that will store loss history\n",
    "* load signal, meta and target labels\n",
    "* drop noise signals\n",
    "* replace all non-AF labels with \"NO\" label\n",
    "* resample signal\n",
    "* drop too short signals\n",
    "* generate a number of segments from each signal\n",
    "* binarize labels to 0 and 1\n",
    "* prepare signal to expected model input format\n",
    "* train model."
   ]
  },
  {
   "cell_type": "code",
   "execution_count": 4,
   "metadata": {
    "collapsed": true
   },
   "outputs": [],
   "source": [
    "model_config = {\n",
    "    \"input_shape\": F(lambda batch: batch.signal[0].shape),\n",
    "    \"loss\": \"binary_crossentropy\",\n",
    "    \"optimizer\": \"adam\"\n",
    "}\n",
    "\n",
    "def make_data(batch, **kwagrs):\n",
    "    return {'x': np.array(list(batch.signal)), 'y': batch.target}\n",
    "\n",
    "train_pipeline = (ds.Pipeline()\n",
    "                  .init_model(\"dynamic\", FFTModel, name=\"fft_model\", config=model_config)\n",
    "                  .init_variable(\"loss_history\", init=list)\n",
    "                  .load(fmt=\"wfdb\", components=[\"signal\", \"meta\"])\n",
    "                  .load(src=\"/notebooks/data/ECG/training2017/REFERENCE.csv\",\n",
    "                        fmt=\"csv\", components=\"target\")\n",
    "                  .drop_labels([\"~\"])\n",
    "                  .replace_labels({\"N\": \"NO\", \"O\": \"NO\"})\n",
    "                  .random_resample_signals(\"normal\", loc=300, scale=10)\n",
    "                  .drop_short_signals(4000)\n",
    "                  .split_signals(3000, 3000)\n",
    "                  .binarize_labels()\n",
    "                  .apply(np.transpose , axes=[0, 2, 1])\n",
    "                  .ravel()\n",
    "                  .train_model('fft_model', make_data=make_data,\n",
    "                               save_to=V(\"loss_history\"), mode=\"a\"))"
   ]
  },
  {
   "cell_type": "markdown",
   "metadata": {},
   "source": [
    "Then we only have to pass the dataset to pipeline and run the calculation. Depending on your hardware training may take a while. Reduce ```n_epochs``` if you do not want to wait long:"
   ]
  },
  {
   "cell_type": "code",
   "execution_count": 26,
   "metadata": {},
   "outputs": [],
   "source": [
    "fft_trained = (eds.train >> train_pipeline).run(batch_size=300, shuffle=True,\n",
    "                                                drop_last=True, n_epochs=10)"
   ]
  },
  {
   "cell_type": "markdown",
   "metadata": {},
   "source": [
    "As a result we obtain ```fft_trained``` that contains trained model. Let's make a prediction!"
   ]
  },
  {
   "cell_type": "code",
   "execution_count": 27,
   "metadata": {},
   "outputs": [
    {
     "data": {
      "image/png": "[encoded data removed]",
      "text/plain": [
       "<matplotlib.figure.Figure at 0x7f7a54ec7a90>"
      ]
     },
     "metadata": {},
     "output_type": "display_data"
    }
   ],
   "source": [
    "import matplotlib.pyplot as plt\n",
    "plt.plot(fft_trained.get_variable(\"loss_history\"))\n",
    "plt.show()"
   ]
  },
  {
   "cell_type": "markdown",
   "metadata": {},
   "source": [
    "## Test pipeline"
   ]
  },
  {
   "cell_type": "markdown",
   "metadata": {},
   "source": [
    "Test pipeline is very similar to train pipeline except several things. First, rather than initialize a new model we import pretrained model from train_pipeline. Alternative option woulb be importing model from model dump. Second, we add new vairable ```true_targets``` than will keep targets from batch. Finally, we call model predict rather than model train."
   ]
  },
  {
   "cell_type": "code",
   "execution_count": 6,
   "metadata": {
    "collapsed": true
   },
   "outputs": [],
   "source": [
    "test_pipeline = (ds.Pipeline()\n",
    "                 .import_model(\"fft_model\", train_pipeline)\n",
    "                 .init_variable(\"pred_targets\", init=list)\n",
    "                 .init_variable(\"true_targets\", init=list)\n",
    "                 .load(fmt=\"wfdb\", components=[\"signal\", \"meta\"])\n",
    "                 .load(src=\"/notebooks/data/ECG/training2017/REFERENCE.csv\",\n",
    "                       fmt=\"csv\", components=\"target\")\n",
    "                 .drop_labels([\"~\"])\n",
    "                 .replace_labels({\"N\": \"NO\", \"O\": \"NO\"})\n",
    "                 .random_resample_signals(\"normal\", loc=300, scale=10)\n",
    "                 .drop_short_signals(4000)\n",
    "                 .split_signals(3000, 3000)\n",
    "                 .binarize_labels()\n",
    "                 .apply(np.transpose , axes=[0, 2, 1])\n",
    "                 .ravel()\n",
    "                 .get_targets('true_targets', mode=\"e\")\n",
    "                 .predict_model('fft_model', make_data=make_data,\n",
    "                                save_to=V(\"pred_targets\"), mode=\"e\", metrics=f1_score))"
   ]
  },
  {
   "cell_type": "markdown",
   "metadata": {},
   "source": [
    "Let's run prediction pipeline. Note we set ```n_epochs=1```:"
   ]
  },
  {
   "cell_type": "code",
   "execution_count": 8,
   "metadata": {},
   "outputs": [],
   "source": [
    "res_test = (eds.test >> test_pipeline).run(batch_size=300, shuffle=False, drop_last=False,\n",
    "                                           n_epochs=1, prefetch=0)"
   ]
  },
  {
   "cell_type": "markdown",
   "metadata": {},
   "source": [
    "Now we can access true labels as ```res_test.get_variable(\"true_targets\")``` and predicted class probabilities\n",
    "as ```res_test.get_variable(\"pred_targets\")```. Consider several predicted values:"
   ]
  },
  {
   "cell_type": "code",
   "execution_count": 10,
   "metadata": {},
   "outputs": [
    {
     "data": {
      "text/plain": [
       "[array([ 0.50236195,  0.49763802], dtype=float32),\n",
       " array([ 0.50094545,  0.49905455], dtype=float32),\n",
       " array([ 0.50120556,  0.49879444], dtype=float32),\n",
       " array([ 0.50081229,  0.49918774], dtype=float32),\n",
       " array([ 0.50088251,  0.49911755], dtype=float32),\n",
       " array([ 0.50170994,  0.49829012], dtype=float32),\n",
       " array([ 0.50167441,  0.49832562], dtype=float32),\n",
       " array([ 0.50448787,  0.49551219], dtype=float32),\n",
       " array([ 0.50244385,  0.49755615], dtype=float32),\n",
       " array([ 0.50251603,  0.497484  ], dtype=float32)]"
      ]
     },
     "execution_count": 10,
     "metadata": {},
     "output_type": "execute_result"
    }
   ],
   "source": [
    "res_test.get_variable(\"pred_targets\")[:10]"
   ]
  },
  {
   "cell_type": "markdown",
   "metadata": {},
   "source": [
    "Here each column corresponds to class probality (AF or non-AF). To get class prediction we simply take most probable class. Metrics f1_score allows to estimate model quality: "
   ]
  },
  {
   "cell_type": "code",
   "execution_count": 22,
   "metadata": {},
   "outputs": [
    {
     "name": "stderr",
     "output_type": "stream",
     "text": [
      "/usr/local/lib/python3.5/dist-packages/sklearn/metrics/classification.py:1135: UndefinedMetricWarning: F-score is ill-defined and being set to 0.0 in labels with no predicted samples.\n",
      "  'precision', 'predicted', average, warn_for)\n"
     ]
    },
    {
     "data": {
      "text/plain": [
       "0.07627289192996578"
      ]
     },
     "execution_count": 22,
     "metadata": {},
     "output_type": "execute_result"
    }
   ],
   "source": [
    "f1_score(np.array(res_test.get_variable(\"true_targets\"))[:, 0],\n",
    "         np.rint(res_test.get_variable(\"pred_targets\"))[:, 0], average='macro')"
   ]
  },
  {
   "cell_type": "markdown",
   "metadata": {},
   "source": [
    "This is the end of Notebook 3. Here we learned:\n",
    "* how to train models\n",
    "* how to test model quality.\n",
    "\n",
    "See previous topics in [Notebook 1](https://github.com/analysiscenter/cardio/blob/master/doc/ecg_tutorial_part_1.ipynb) and [Notebook 2](https://github.com/analysiscenter/cardio/blob/master/doc/ecg_tutorial_part_2.ipynb)."
   ]
  }
 ],
 "metadata": {
  "kernelspec": {
   "display_name": "Python 3",
   "language": "python",
   "name": "python3"
  },
  "language_info": {
   "codemirror_mode": {
    "name": "ipython",
    "version": 3
   },
   "file_extension": ".py",
   "mimetype": "text/x-python",
   "name": "python",
   "nbconvert_exporter": "python",
   "pygments_lexer": "ipython3",
   "version": "3.5.2"
  }
 },
 "nbformat": 4,
 "nbformat_minor": 2
}
