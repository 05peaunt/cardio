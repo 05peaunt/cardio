{
 "cells": [
  {
   "cell_type": "markdown",
   "metadata": {},
   "source": [
    "# Define and run pipelines"
   ]
  },
  {
   "cell_type": "markdown",
   "metadata": {},
   "source": [
    "In Notebook 2 we learn pipelines. Pipeline is a sequence of actions we want to apply to [batch](https://github.com/analysiscenter/cardio/blob/master/doc/batch.md). At first we describe what we want to do with batch. Then at some point in our code we pass dataset to pipeline and calculations actually run."
   ]
  },
  {
   "cell_type": "markdown",
   "metadata": {},
   "source": [
    "## Define pipeline"
   ]
  },
  {
   "cell_type": "markdown",
   "metadata": {},
   "source": [
    "The following example shows how to define a pipeline. It simply lists actions:\n",
    "* load data\n",
    "* resample signal to new fs\n",
    "* drop signals that are too short\n",
    "* generate segments with specified length and step size from signal\n",
    "* save result in optimized format [blosc](http://blosc.org/)."
   ]
  },
  {
   "cell_type": "code",
   "execution_count": 2,
   "metadata": {},
   "outputs": [
    {
     "name": "stderr",
     "output_type": "stream",
     "text": [
      "Using TensorFlow backend.\n"
     ]
    }
   ],
   "source": [
    "import sys\n",
    "import os\n",
    "sys.path.append(os.path.join(\"..\"))\n",
    "\n",
    "import cardio.dataset as ds\n",
    "from cardio import EcgBatch\n",
    "\n",
    "path_to_dump = 'data/signal_dump/'\n",
    "\n",
    "preprocess_pipeline = (ds.Pipeline()\n",
    "                       .load(fmt=\"wfdb\", components=[\"signal\", \"meta\"])\n",
    "                       .random_resample_signals(\"normal\", loc=300, scale=10)\n",
    "                       .drop_short_signals(4000)\n",
    "                       .split_signals(3000, 3000)\n",
    "                       .dump(fmt='blosc', dst=path_to_dump))"
   ]
  },
  {
   "cell_type": "markdown",
   "metadata": {},
   "source": [
    "Note that when we run pipeline batches will be generated and __destroyed__ inside the pipeline. To have access to processed data we include ```dump``` action. This action is unnecessary e.g. in model training. The other options is to save result to pipeline variable. See [here](https://github.com/analysiscenter/dataset/blob/master/doc/pipeline.md) more features of pipelines."
   ]
  },
  {
   "cell_type": "markdown",
   "metadata": {},
   "source": [
    "## Run pipeline"
   ]
  },
  {
   "cell_type": "markdown",
   "metadata": {},
   "source": [
    "Let's create an ECG dataset that will be passed to the pipeline (see [Notebook 1](https://github.com/analysiscenter/cardio/blob/master/doc/ecg_tutorial_part_1.ipynb) for dataset): "
   ]
  },
  {
   "cell_type": "code",
   "execution_count": 2,
   "metadata": {
    "collapsed": true
   },
   "outputs": [],
   "source": [
    "index = ds.FilesIndex(path=\"/notebooks/data/ECG/training2017/*.hea\", no_ext=True, sort=True)\n",
    "eds = ds.Dataset(index, batch_class=EcgBatch)"
   ]
  },
  {
   "cell_type": "markdown",
   "metadata": {},
   "source": [
    "To start calculation we pass ECG dataset into the pipeline and call an action ```run```. It will iterate over dataset with given batch size until no ECGs are left:"
   ]
  },
  {
   "cell_type": "code",
   "execution_count": 3,
   "metadata": {},
   "outputs": [
    {
     "data": {
      "text/plain": [
       "<ecg.dataset.dataset.pipeline.Pipeline at 0x7f5d371016d8>"
      ]
     },
     "execution_count": 3,
     "metadata": {},
     "output_type": "execute_result"
    }
   ],
   "source": [
    "(eds >> preprocess_pipeline).run(batch_size=300, shuffle=False, drop_last=False, n_epochs=1)"
   ]
  },
  {
   "cell_type": "markdown",
   "metadata": {},
   "source": [
    "As a result we obtain dump of processed ECGs located in folder ```path_to_dump```."
   ]
  },
  {
   "cell_type": "markdown",
   "metadata": {},
   "source": [
    "## Add custom action"
   ]
  },
  {
   "cell_type": "markdown",
   "metadata": {},
   "source": [
    "Suppose you want to include in pipeline a new action called ```add_value``` that adds given value to each signal. Any new action should be defined in ```Batch``` and have decorator ```@action```.\n",
    "\n",
    "To demonstrate how it works let's create a new class ```MyEcgBatch``` with ```EcgBatch``` class as parent. In ```MyEcgBatch``` we define method  ```add_value``` and decorate it with ```@action```. We add also optional decorator ```@inbatch_parallel``` that splits batch into individual ECGs and process each ECG in a separate thread. Being decorated ```add_value``` obtains index of ECG and every parameter passed from pipeline. From index it obtains position of corresponding signal in batch and adds value to the signal. Let's combine it all together:"
   ]
  },
  {
   "cell_type": "code",
   "execution_count": 4,
   "metadata": {
    "collapsed": true
   },
   "outputs": [],
   "source": [
    "class MyEcgBatch(EcgBatch):  # pylint: disable=too-many-public-methods\n",
    "    \"\"\"Class for storing batch of ECG signals.\"\"\"\n",
    "\n",
    "    def __init__(self, index, preloaded=None, unique_labels=None):\n",
    "        super().__init__(index, preloaded, unique_labels)\n",
    "\n",
    "    @ds.action\n",
    "    @ds.inbatch_parallel(init=\"indices\", target=\"threads\")\n",
    "    def add_value(self, index, value):\n",
    "        i = self.get_pos(None, \"signal\", index)\n",
    "        self.signal[i] += value"
   ]
  },
  {
   "cell_type": "markdown",
   "metadata": {},
   "source": [
    "Let's apply ```add_value``` to some batch and check the effect. Create new batch with data:"
   ]
  },
  {
   "cell_type": "code",
   "execution_count": 5,
   "metadata": {
    "collapsed": true
   },
   "outputs": [],
   "source": [
    "eds = ds.Dataset(index, batch_class=MyEcgBatch)\n",
    "batch = eds.next_batch(100)\n",
    "batch_with_data = batch.load(fmt=\"wfdb\", components=[\"signal\", \"meta\"])"
   ]
  },
  {
   "cell_type": "markdown",
   "metadata": {},
   "source": [
    "Remember some signal from batch:"
   ]
  },
  {
   "cell_type": "code",
   "execution_count": 6,
   "metadata": {
    "collapsed": true
   },
   "outputs": [],
   "source": [
    "ecg_id = 'A00012'\n",
    "original_signal = batch_with_data[ecg_id].signal.copy()"
   ]
  },
  {
   "cell_type": "markdown",
   "metadata": {},
   "source": [
    "Apply ```add_value``` with value -1 to batch:"
   ]
  },
  {
   "cell_type": "code",
   "execution_count": 7,
   "metadata": {
    "collapsed": true
   },
   "outputs": [],
   "source": [
    "batch_transformed = batch_with_data.add_value(-1)"
   ]
  },
  {
   "cell_type": "markdown",
   "metadata": {},
   "source": [
    "Compare results:"
   ]
  },
  {
   "cell_type": "code",
   "execution_count": 8,
   "metadata": {},
   "outputs": [
    {
     "data": {
      "image/png": "[encoded data removed]",
      "text/plain": [
       "<matplotlib.figure.Figure at 0x7f5d36e1a400>"
      ]
     },
     "metadata": {},
     "output_type": "display_data"
    }
   ],
   "source": [
    "transformed_signal = batch_transformed[ecg_id].signal\n",
    "\n",
    "import matplotlib.pyplot as plt\n",
    "plt.plot(original_signal.ravel(), label='before add')\n",
    "plt.plot(transformed_signal.ravel(), label='after add')\n",
    "plt.legend()\n",
    "plt.show()"
   ]
  },
  {
   "cell_type": "markdown",
   "metadata": {},
   "source": [
    "Now we can include ```add_value``` in pipeline:"
   ]
  },
  {
   "cell_type": "code",
   "execution_count": 9,
   "metadata": {
    "collapsed": true
   },
   "outputs": [],
   "source": [
    "preprocess_pipeline = (ds.Pipeline()\n",
    "                       .load(fmt=\"wfdb\", components=[\"signal\", \"meta\"])\n",
    "                       .random_resample_signals(\"normal\", loc=300, scale=10)\n",
    "                       .drop_short_signals(4000)\n",
    "                       .split_signals(3000, 3000)\n",
    "                       .add_value(-1)\n",
    "                       .dump(fmt='blosc', dst=path_to_dump))"
   ]
  },
  {
   "cell_type": "markdown",
   "metadata": {},
   "source": [
    "Run modified pipeline:"
   ]
  },
  {
   "cell_type": "code",
   "execution_count": 10,
   "metadata": {},
   "outputs": [
    {
     "data": {
      "text/plain": [
       "<ecg.dataset.dataset.pipeline.Pipeline at 0x7f5d1c71f6a0>"
      ]
     },
     "execution_count": 10,
     "metadata": {},
     "output_type": "execute_result"
    }
   ],
   "source": [
    "(eds >> preprocess_pipeline).run(batch_size=300, shuffle=False, drop_last=False, n_epochs=1)"
   ]
  },
  {
   "cell_type": "code",
   "execution_count": 4,
   "metadata": {},
   "outputs": [
    {
     "data": {
      "text/plain": [
       "[1, 2, 3, 4, 5]"
      ]
     },
     "execution_count": 4,
     "metadata": {},
     "output_type": "execute_result"
    }
   ],
   "source": [
    "a = [1,2,3,4,5]\n",
    "b = a[3:]\n",
    "b[0]=232\n",
    "a"
   ]
  },
  {
   "cell_type": "markdown",
   "metadata": {},
   "source": [
    "Summarizing, in Notebook 2 we learned:\n",
    "* how to construct and run pipelines\n",
    "* how to add custom actions.\n",
    "\n",
    "In the next [Notebook 3](https://github.com/analysiscenter/cardio/blob/master/doc/ecg_tutorial_part_3.ipynb) we will work with models."
   ]
  }
 ],
 "metadata": {
  "kernelspec": {
   "display_name": "Python 3",
   "language": "python",
   "name": "python3"
  },
  "language_info": {
   "codemirror_mode": {
    "name": "ipython",
    "version": 3
   },
   "file_extension": ".py",
   "mimetype": "text/x-python",
   "name": "python",
   "nbconvert_exporter": "python",
   "pygments_lexer": "ipython3",
   "version": "3.5.2"
  }
 },
 "nbformat": 4,
 "nbformat_minor": 2
}
