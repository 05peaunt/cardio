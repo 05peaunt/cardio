{
 "cells": [
  {
   "cell_type": "markdown",
   "metadata": {},
   "source": [
    "# CardIO framework for deep research of ECG"
   ]
  },
  {
   "cell_type": "markdown",
   "metadata": {},
   "source": [
    "#### CardIO is based on a very simple and natural approach:\n",
    "\n",
    "* Split input dataset into batches to process data batch by batch (because input datasets can be indefinitely large)\n",
    "* Describe workflow as a sequence of actions (e.g. load data — preprocess data — train model)\n",
    "* Run the workflow once for the whole dataset"
   ]
  },
  {
   "cell_type": "markdown",
   "metadata": {},
   "source": [
    "#### In this notebook you will learn:\n",
    "* Where to get ECG data\n",
    "* How to start using CardIO\n",
    "* How to apply actions to batch\n",
    "* What actions can be applied to batch and how they affect batch"
   ]
  },
  {
   "cell_type": "markdown",
   "metadata": {},
   "source": [
    "## Table of contents"
   ]
  },
  {
   "cell_type": "markdown",
   "metadata": {},
   "source": [
    "* [Getting ECG data](#Getting-ECG-data)\n",
    "* [Index of ECGs](#Index-of-ECGs)\n",
    "* [Initialization of dataset](#Initialization-of-dataset)\n",
    "* [Start using dataset](#Start-using-dataset)\n",
    "* [Generating batches](#Generating-batches)\n",
    "* [Apply actions](#Apply-actions)\n",
    "* [Actions in CardIO](#Actions-in-CardIO)\n",
    "    * [convolve_signals](#convolve_signals)\n",
    "    * [band_pass_signals](#band_pass_signals)\n",
    "    * [random_split_signals](#random_split_signals)\n",
    "    * [unstack_signals](#unstack_signals)\n",
    "    * [resample_signals](#resample_signals)\n",
    "    * [spectrogram](#spectrogram)\n",
    "    * [fft](#fft)\n",
    "    * [apply_transform](#apply_transform)\n",
    "    * [drop_labels](#drop_labels)\n",
    "    * [rename_labels](#rename_labels)\n",
    "    * [rename_channels](#rename_channels)\n",
    "* [Summary](#Summary)"
   ]
  },
  {
   "cell_type": "markdown",
   "metadata": {},
   "source": [
    "## Getting ECG data"
   ]
  },
  {
   "cell_type": "markdown",
   "metadata": {},
   "source": [
    "In this and following tutorials you will work with ECG data throught CardIO framework. \n",
    "\n",
    "We suggest loading ECG data from the PhysioNet database of short single lead ECG recording. Follow this [link](https://physionet.org/challenge/2017/) and find archive \"training2017.zip\" or use [direct](https://physionet.org/challenge/2017/training2017.zip) link. However, if you do not want to load large dataset now, you can find several ECGs from that database in folder cardio/tests/data (this folder is icluded in CardIO repository).\n",
    "\n",
    "The PhysioNet archive contains 8.528 ECGs in [wfdb](https://www.physionet.org/physiotools/wpg/wpg_35.htm) format. Each ECG has a unique index ranging from \"A00001\" to \"A08528\". According to wbdf format ECG record consists of several files with the same name but different extensions. We will work with files with ```.hea``` and ```.mat``` extensions. File ```.hea``` contains signal, while ```.mat``` contains meta information about the signal (e.g. sample rate). \n",
    "\n",
    "Since the PhysioNet acrhive was prepared for arrhythmia classification challenge, it also contains REFERENCE.csv file, where each ECG index is labeled with one of four classes:\n",
    "* Normal rhythm\n",
    "* AF\n",
    "* Other rhythm\n",
    "* Noise\n",
    "\n",
    "Read [here](https://physionet.org/challenge/2017/) more about PhysioNet database."
   ]
  },
  {
   "cell_type": "markdown",
   "metadata": {},
   "source": [
    "## Index of ECGs"
   ]
  },
  {
   "cell_type": "markdown",
   "metadata": {},
   "source": [
    "Working with ECG begins with ```FilesIndex```. ```FilesIndex``` contains index and location of each ECG record we want to process. \n",
    "\n",
    "Let all ECGs be stored in wfdb format in folder with path '../cardio/tests/data/' (if you cloned the CardIO repository from [Git](https://github.com/analysiscenter/cardio), this path will actually contain several examples of ECGs). Let's create a new ```FilesIndex``` with all ECGs from this folder."
   ]
  },
  {
   "cell_type": "code",
   "execution_count": null,
   "metadata": {
    "collapsed": true
   },
   "outputs": [],
   "source": [
    "import sys\n",
    "import numpy as np\n",
    "\n",
    "from matplotlib import pyplot as plt\n",
    "\n",
    "sys.path.append('..')\n",
    "\n",
    "import cardio.dataset as ds\n",
    "index = ds.FilesIndex(path='../cardio/tests/data/A*.hea', no_ext=True, sort=True)"
   ]
  },
  {
   "cell_type": "markdown",
   "metadata": {},
   "source": [
    "Now each ECG is indexed with its filename. Indices are stored in ```index.indices```:"
   ]
  },
  {
   "cell_type": "code",
   "execution_count": null,
   "metadata": {},
   "outputs": [],
   "source": [
    "print(index.indices)"
   ]
  },
  {
   "cell_type": "markdown",
   "metadata": {},
   "source": [
    "## Initialization of Dataset"
   ]
  },
  {
   "cell_type": "markdown",
   "metadata": {},
   "source": [
    "We have ```index``` that knows which ECGs we want to process. CardIO processes data grouped in batches of class [EcgBatch](https://analysiscenter.github.io/cardio/intro/batch.html). To generate proper batches we create a dataset:"
   ]
  },
  {
   "cell_type": "code",
   "execution_count": null,
   "metadata": {
    "collapsed": true
   },
   "outputs": [],
   "source": [
    "from cardio import EcgBatch\n",
    "eds = ds.Dataset(index, batch_class=EcgBatch)"
   ]
  },
  {
   "cell_type": "markdown",
   "metadata": {},
   "source": [
    "Note that the same result can be obtained in a shorter way:\n",
    "```python\n",
    "from cardio import EcgDataset\n",
    "eds = EcgDataset(path='../cardio/tests/data/*.hea', no_ext=True, sort=True)\n",
    "```"
   ]
  },
  {
   "cell_type": "markdown",
   "metadata": {},
   "source": [
    "## Generating batches"
   ]
  },
  {
   "cell_type": "markdown",
   "metadata": {},
   "source": [
    "Let's generate a first batch of some size, say 6:"
   ]
  },
  {
   "cell_type": "code",
   "execution_count": null,
   "metadata": {
    "collapsed": true
   },
   "outputs": [],
   "source": [
    "batch = eds.next_batch(batch_size=6, unique_labels=['A', 'N', 'O'])"
   ]
  },
  {
   "cell_type": "markdown",
   "metadata": {},
   "source": [
    "Here we pass argument ```unique_labels```, which contains all possible labels that we expect to be in the dataset. We have ECG signals with three different labels that indicate whether the ECG has come from a person with normal rhythm (label \"N\"), a person with atrial fibrillation (\"A\"), or a person with some other abnormal rhythm (\"O\"). \n",
    "\n",
    "However ```batch``` still does not contain any data, only indices and paths to ECGs. To fill it with data we need to apply load action. Next section shows how to apply actions."
   ]
  },
  {
   "cell_type": "markdown",
   "metadata": {},
   "source": [
    "## Apply actions"
   ]
  },
  {
   "cell_type": "markdown",
   "metadata": {},
   "source": [
    "Any preprocess typically begins with loading of data. Therefore, we start with an example how to apply action [```load```](https://analysiscenter.github.io/cardio/api/cardio.batch.html#cardio.batch.EcgBatch.load). \n",
    "\n",
    "Note that paths to ECGs are already stored in batch, so simply inticate data format, which is wfdb, and components of wbdf file we want to load. We load components ```signal```  and  ```meta```:"
   ]
  },
  {
   "cell_type": "code",
   "execution_count": null,
   "metadata": {
    "collapsed": true
   },
   "outputs": [],
   "source": [
    "batch_with_data = batch.load(fmt='wfdb', components=['signal', 'meta'])"
   ]
  },
  {
   "cell_type": "markdown",
   "metadata": {},
   "source": [
    "Now ```batch_with_data``` contatains loaded ECGs. Any ECG record can be accessed by its index, e.g. ```batch_with_data['A00001']```. ECG components, signal and meta, can be accessed as ```batch_with_data['A00001'].signal``` and ```batch_with_data['A00001'].meta``` correspondingly."
   ]
  },
  {
   "cell_type": "markdown",
   "metadata": {},
   "source": [
    "We can also load labels for the data using the same action, but with other arguments:"
   ]
  },
  {
   "cell_type": "code",
   "execution_count": null,
   "metadata": {
    "collapsed": true
   },
   "outputs": [],
   "source": [
    "batch_with_data = batch_with_data.load(src='../cardio/tests/data/REFERENCE.csv', fmt='csv', components='target')"
   ]
  },
  {
   "cell_type": "markdown",
   "metadata": {},
   "source": [
    "Labels are stored in the ```target``` component, you can access them with ```batch_with_data['A00001'].target```:"
   ]
  },
  {
   "cell_type": "code",
   "execution_count": null,
   "metadata": {},
   "outputs": [],
   "source": [
    "batch_with_data['A00001'].target"
   ]
  },
  {
   "cell_type": "markdown",
   "metadata": {},
   "source": [
    "Let's plot signal from ECG with index```'A00001'```:"
   ]
  },
  {
   "cell_type": "code",
   "execution_count": null,
   "metadata": {},
   "outputs": [],
   "source": [
    "batch_with_data.show_ecg('A00001')"
   ]
  },
  {
   "cell_type": "markdown",
   "metadata": {},
   "source": [
    "Any other action can be applied to ```batch_with_data``` in the same way as ```load```. Let's consider e.g. action [```flip_signals```](https://analysiscenter.github.io/cardio/api/cardio.batch.html#cardio.batch.EcgBatch.flip_signals). It flips signals whose R-peaks are directed downwards.\n",
    "\n",
    "Note that ```flip_signals``` modifies batch inplace, so we create copy of the batch:"
   ]
  },
  {
   "cell_type": "code",
   "execution_count": null,
   "metadata": {
    "collapsed": true
   },
   "outputs": [],
   "source": [
    "original_batch = batch_with_data.deepcopy()\n",
    "changed_batch = batch_with_data.deepcopy()"
   ]
  },
  {
   "cell_type": "markdown",
   "metadata": {},
   "source": [
    "And then apply ```flip_signal``` action:"
   ]
  },
  {
   "cell_type": "code",
   "execution_count": null,
   "metadata": {},
   "outputs": [],
   "source": [
    "changed_batch.flip_signals()"
   ]
  },
  {
   "cell_type": "markdown",
   "metadata": {},
   "source": [
    "Now we can compare results. Let's consider signal with index 'A00013', whose R-peaks were originally directed downwards:"
   ]
  },
  {
   "cell_type": "code",
   "execution_count": null,
   "metadata": {},
   "outputs": [],
   "source": [
    "original_batch.show_ecg('A00013')\n",
    "\n",
    "changed_batch.show_ecg('A00013')"
   ]
  },
  {
   "cell_type": "markdown",
   "metadata": {},
   "source": [
    "For further analysis, let's apply ```flip_signals()``` to the ```batch_with_data```:"
   ]
  },
  {
   "cell_type": "code",
   "execution_count": null,
   "metadata": {
    "collapsed": true
   },
   "outputs": [],
   "source": [
    "batch_with_data = batch_with_data.flip_signals()"
   ]
  },
  {
   "cell_type": "markdown",
   "metadata": {},
   "source": [
    "## Actions in CardIO"
   ]
  },
  {
   "cell_type": "markdown",
   "metadata": {},
   "source": [
    "CardIO contains a number of actions that can be applied to the batch:\n",
    "\n",
    "* convolve_signals()\n",
    "* band_pass_signals()\n",
    "* random_split_signals()\n",
    "* unstack_signals()\n",
    "* resample_signals()\n",
    "* spectrogram()\n",
    "* fft()\n",
    "* apply_transform()\n",
    "* drop_labels()\n",
    "* rename_labels()\n",
    "* rename_channels()\n",
    "* ...\n",
    "\n",
    "In the following sections we will show how to use them and how these actions affect batch and its components."
   ]
  },
  {
   "cell_type": "markdown",
   "metadata": {},
   "source": [
    "### [```convolve_signals```](https://analysiscenter.github.io/cardio/api/cardio.batch.html#cardio.batch.EcgBatch.convolve_signals)"
   ]
  },
  {
   "cell_type": "markdown",
   "metadata": {},
   "source": [
    "```convolve_signals()``` action actually convolves signal with the specified kernel.\n",
    "\n",
    "Convolution is a formal mathematical operation, just as multiplication, addition, and integration. Addition takes two numbers and produces a third number, while convolution takes two signals and produces a third signal."
   ]
  },
  {
   "cell_type": "markdown",
   "metadata": {},
   "source": [
    "Let's convolve signals in batch with gaussian kernel, which look like this:"
   ]
  },
  {
   "cell_type": "code",
   "execution_count": null,
   "metadata": {},
   "outputs": [],
   "source": [
    "%matplotlib inline\n",
    "import cardio \n",
    "\n",
    "kernel = cardio.kernels.gaussian(size=11)\n",
    "plt.plot(kernel)"
   ]
  },
  {
   "cell_type": "code",
   "execution_count": null,
   "metadata": {
    "collapsed": true
   },
   "outputs": [],
   "source": [
    "original_batch = batch_with_data.deepcopy()\n",
    "changed_batch = batch_with_data.deepcopy()"
   ]
  },
  {
   "cell_type": "markdown",
   "metadata": {},
   "source": [
    "This is a common operation to remove noise, so we will add some normally distributed noise to the signal and apply ```convolve_signals()```:"
   ]
  },
  {
   "cell_type": "code",
   "execution_count": null,
   "metadata": {},
   "outputs": [],
   "source": [
    "siglen = original_batch[\"A00001\"].signal.shape[1]\n",
    "\n",
    "noise = np.random.normal(scale=0.01, size=siglen)\n",
    "\n",
    "original_batch[\"A00001\"].signal += noise\n",
    "changed_batch[\"A00001\"].signal += noise\n",
    "\n",
    "changed_batch.convolve_signals(kernel=kernel)"
   ]
  },
  {
   "cell_type": "markdown",
   "metadata": {},
   "source": [
    "And now you can see how this transformation affected the signal:"
   ]
  },
  {
   "cell_type": "code",
   "execution_count": null,
   "metadata": {},
   "outputs": [],
   "source": [
    "original_batch.show_ecg('A00001', start=10, end=15)\n",
    "\n",
    "changed_batch.show_ecg('A00001', start=10, end=15)"
   ]
  },
  {
   "cell_type": "markdown",
   "metadata": {},
   "source": [
    "### [```band_pass_signals```](https://analysiscenter.github.io/cardio/api/cardio.batch.html#cardio.batch.EcgBatch.band_pass_signals)"
   ]
  },
  {
   "cell_type": "markdown",
   "metadata": {},
   "source": [
    "A bandpass filter is a device or a program that passes frequencies within a certain range and rejects frequencies outside that range. To demonstrate capabilities of ```band_pass_signal()``` action we are going to artificially modify some of the batch's signals.\n"
   ]
  },
  {
   "cell_type": "code",
   "execution_count": null,
   "metadata": {
    "collapsed": true
   },
   "outputs": [],
   "source": [
    "original_batch = batch_with_data.deepcopy()\n",
    "changed_batch = batch_with_data.deepcopy()"
   ]
  },
  {
   "cell_type": "markdown",
   "metadata": {},
   "source": [
    "First, generate some low-frequency noise:"
   ]
  },
  {
   "cell_type": "code",
   "execution_count": null,
   "metadata": {},
   "outputs": [],
   "source": [
    "n_sin = 10\n",
    "noise = np.zeros_like(original_batch['A00013'].signal)\n",
    "t = np.linspace(0, 30, siglen)\n",
    "for i in range(n_sin):\n",
    "    a = np.random.uniform(0, 0.1)\n",
    "    omega = np.random.uniform(0.1, 0.8)\n",
    "    phi = np.random.uniform(0, 2 * np.pi)\n",
    "    noise += a * np.sin(omega * t + phi)\n",
    "    \n",
    "plt.plot(noise[0])\n",
    "plt.show()"
   ]
  },
  {
   "cell_type": "markdown",
   "metadata": {},
   "source": [
    "And add this noise to the signal \"A00013\":"
   ]
  },
  {
   "cell_type": "code",
   "execution_count": null,
   "metadata": {
    "collapsed": true
   },
   "outputs": [],
   "source": [
    "original_batch['A00013'].signal += noise\n",
    "changed_batch['A00013'].signal += noise"
   ]
  },
  {
   "cell_type": "markdown",
   "metadata": {},
   "source": [
    "Now apply band-pass filter with low frequency:"
   ]
  },
  {
   "cell_type": "code",
   "execution_count": null,
   "metadata": {},
   "outputs": [],
   "source": [
    "changed_batch.band_pass_signals(low=0.2)"
   ]
  },
  {
   "cell_type": "markdown",
   "metadata": {},
   "source": [
    "And here you can see that the noise was removed:"
   ]
  },
  {
   "cell_type": "code",
   "execution_count": null,
   "metadata": {},
   "outputs": [],
   "source": [
    "original_batch.show_ecg('A00013')\n",
    "\n",
    "changed_batch.show_ecg('A00013')"
   ]
  },
  {
   "cell_type": "markdown",
   "metadata": {},
   "source": [
    "### [```random_split_signals```](https://analysiscenter.github.io/cardio/api/cardio.batch.html#cardio.batch.EcgBatch.random_split_signals)"
   ]
  },
  {
   "cell_type": "markdown",
   "metadata": {},
   "source": [
    "```random_split_signals()``` does simple transformation: it splits 2-D signal along time axis (typically axis 1) for ```n_segments``` with random starting point and defined ```length```."
   ]
  },
  {
   "cell_type": "code",
   "execution_count": null,
   "metadata": {},
   "outputs": [],
   "source": [
    "original_batch = batch_with_data.deepcopy()\n",
    "changed_batch = batch_with_data.deepcopy()\n",
    "\n",
    "changed_batch.random_split_signals(length=2048, n_segments=4)"
   ]
  },
  {
   "cell_type": "markdown",
   "metadata": {},
   "source": [
    "We now can compare shapes of the initial signal and after the random split. Notice, that resulting array is 3-D: ```[n_segments, n_channels, length]```."
   ]
  },
  {
   "cell_type": "code",
   "execution_count": null,
   "metadata": {},
   "outputs": [],
   "source": [
    "print(\"Original shape of the signal: \", original_batch['A00013'].signal.shape)\n",
    "print(\"Shape of the signal after random split: \", changed_batch['A00013'].signal.shape)"
   ]
  },
  {
   "cell_type": "markdown",
   "metadata": {},
   "source": [
    "### [```unstack_signals```](https://analysiscenter.github.io/cardio/api/cardio.batch.html#cardio.batch.EcgBatch.unstack_signals)"
   ]
  },
  {
   "cell_type": "markdown",
   "metadata": {},
   "source": [
    "```unstack_signals()``` is useful to maintain batch structure after transformations that change shape of the signal component elements, like ```split_signals()```.\n",
    "This action creates a new batch in which each signal's element along axis 0 is considered as a separate signal.\n",
    "\n",
    "Here we apply ```split_signals()``` to both batches and then apply ```unstack_signals()``` to the changed batch:"
   ]
  },
  {
   "cell_type": "code",
   "execution_count": null,
   "metadata": {},
   "outputs": [],
   "source": [
    "original_batch = batch_with_data.deepcopy()\n",
    "changed_batch = batch_with_data.deepcopy()\n",
    "\n",
    "original_batch.split_signals(length=3000, step=6000)\n",
    "\n",
    "changed_batch.split_signals(length=3000, step=6000).unstack_signals()"
   ]
  },
  {
   "cell_type": "markdown",
   "metadata": {},
   "source": [
    "And now you can see that nothing happened:"
   ]
  },
  {
   "cell_type": "code",
   "execution_count": null,
   "metadata": {},
   "outputs": [],
   "source": [
    "print('Original shape of the signal: ', original_batch['A00013'].signal.shape)\n",
    "print('Shape of the signal after actions: ', changed_batch['A00013'].signal.shape)"
   ]
  },
  {
   "cell_type": "markdown",
   "metadata": {},
   "source": [
    "This happened because ```unstack_signals()``` doesn't change existing batch, but returns a new one instead.\n",
    "\n",
    "Also, ```unstack_signals()``` changes the ```index``` of the batch. New ```indices``` will be integers from ```0``` to ```N-1```, where N is the sum of the sizes of the first dimension over all signals (3-D) in the batch. \n",
    "\n",
    "For example, you have batch with two 3-D signals with shapes ```[3, 12, 1000]``` and ```[2, 12, 1000]```:\n",
    "``` python\n",
    ">>> batch.indices\n",
    ">>> ['A00001', 'A00002']\n",
    ">>> batch['A00001'].signal.shape\n",
    ">>> [3, 12, 1000]\n",
    ">>> batch['A00002'].signal.shape\n",
    ">>> [2, 12, 1000]\n",
    "```\n",
    "If you apply ```unstack_signals()``` to the batch you would get a new batch with five 2-D signals and new ```indices```:\n",
    "``` python\n",
    ">>> batch = batch.unstack_signals()\n",
    ">>> batch.indices\n",
    ">>> [0, 1, 2, 3, 4]\n",
    ">>> batch[0].signal.shape\n",
    ">>> [12, 1000]\n",
    ">>> batch[3].signal.shape\n",
    ">>> [12, 1000]\n",
    "```"
   ]
  },
  {
   "cell_type": "markdown",
   "metadata": {},
   "source": [
    "Let's use ```unstack_signals()``` on our data and see what happens:"
   ]
  },
  {
   "cell_type": "code",
   "execution_count": null,
   "metadata": {
    "collapsed": true
   },
   "outputs": [],
   "source": [
    "original_batch = batch_with_data.deepcopy()\n",
    "changed_batch = batch_with_data.deepcopy()\n",
    "\n",
    "original_batch.split_signals(length=3000, step=6000)\n",
    "\n",
    "changed_batch = changed_batch.split_signals(length=3000, step=6000).unstack_signals()"
   ]
  },
  {
   "cell_type": "markdown",
   "metadata": {},
   "source": [
    "At first, take a glance at the ```signal``` component of the batches:"
   ]
  },
  {
   "cell_type": "code",
   "execution_count": null,
   "metadata": {},
   "outputs": [],
   "source": [
    "print('Original shape of `signal` component: ', original_batch.signal.shape)\n",
    "print('Shape of `signal` component after unstack: ', changed_batch.signal.shape)"
   ]
  },
  {
   "cell_type": "markdown",
   "metadata": {},
   "source": [
    "Now we compare ```indices``` of the original and changed batches:"
   ]
  },
  {
   "cell_type": "code",
   "execution_count": null,
   "metadata": {},
   "outputs": [],
   "source": [
    "print('Indices of the original batch: ', original_batch.indices)\n",
    "print('Indices of the batch after unstack: ', changed_batch.indices)"
   ]
  },
  {
   "cell_type": "markdown",
   "metadata": {},
   "source": [
    "And, finally, look at the shapes of the signals:"
   ]
  },
  {
   "cell_type": "code",
   "execution_count": null,
   "metadata": {},
   "outputs": [],
   "source": [
    "print('Original shape of the signal: ', original_batch['A00001'].signal.shape)\n",
    "print('Shape of the signal after unstacking: ', changed_batch[0].signal.shape)"
   ]
  },
  {
   "cell_type": "markdown",
   "metadata": {},
   "source": [
    "### [```resample_signals```](https://analysiscenter.github.io/cardio/api/cardio.batch.html#cardio.batch.EcgBatch.resample_signals)"
   ]
  },
  {
   "cell_type": "markdown",
   "metadata": {},
   "source": [
    "```resample_signals()``` resamples 2-D signals along time axis (axis 1) to given sampling rate. This action also changes ```signal``` and ```meta``` components."
   ]
  },
  {
   "cell_type": "code",
   "execution_count": null,
   "metadata": {},
   "outputs": [],
   "source": [
    "original_batch = batch_with_data.deepcopy()\n",
    "changed_batch = batch_with_data.deepcopy()\n",
    "\n",
    "changed_batch.resample_signals(fs=20)"
   ]
  },
  {
   "cell_type": "markdown",
   "metadata": {},
   "source": [
    "If you set new sampling rate to a very low value, you can notice changes by eye:"
   ]
  },
  {
   "cell_type": "code",
   "execution_count": null,
   "metadata": {},
   "outputs": [],
   "source": [
    "original_batch.show_ecg('A00001')\n",
    "\n",
    "changed_batch.show_ecg('A00001')"
   ]
  },
  {
   "cell_type": "markdown",
   "metadata": {},
   "source": [
    "And also you can see that signal length has changed:"
   ]
  },
  {
   "cell_type": "code",
   "execution_count": null,
   "metadata": {},
   "outputs": [],
   "source": [
    "print('Original shape of the signal: ', original_batch['A00001'].signal.shape)\n",
    "print('Shape of the signal after resampling: ', changed_batch['A00001'].signal.shape)"
   ]
  },
  {
   "cell_type": "markdown",
   "metadata": {},
   "source": [
    "New sampling rate is stored in ```meta``` component under key \"fs\":"
   ]
  },
  {
   "cell_type": "code",
   "execution_count": null,
   "metadata": {},
   "outputs": [],
   "source": [
    "print('Original sampling rate: {} Hz'.format(original_batch['A00001'].meta['fs']))\n",
    "print('Sampling rate after resampling: {} Hz'.format(changed_batch['A00001'].meta['fs']))"
   ]
  },
  {
   "cell_type": "markdown",
   "metadata": {},
   "source": [
    "### [```spectrogram```](https://analysiscenter.github.io/cardio/api/cardio.batch.html#cardio.batch.EcgBatch.spectrogram)"
   ]
  },
  {
   "cell_type": "markdown",
   "metadata": {},
   "source": [
    "A spectrogram is a visual representation of the spectrum of frequencies of sound or other signal as they vary with time or some other variable."
   ]
  },
  {
   "cell_type": "markdown",
   "metadata": {},
   "source": [
    "We'll use the ```spectrogram()``` action on ```changed_batch```. Note that action has a ```dst``` argument, which defines batch component (or atribute) where the result of the action will be stored."
   ]
  },
  {
   "cell_type": "code",
   "execution_count": null,
   "metadata": {},
   "outputs": [],
   "source": [
    "changed_batch = batch_with_data.deepcopy()\n",
    "\n",
    "changed_batch.spectrogram(dst='spectrogram_data')"
   ]
  },
  {
   "cell_type": "markdown",
   "metadata": {},
   "source": [
    "Now you can retrieve the spectrogram from the ```dst``` and plot it. \n",
    "\n",
    "\n",
    "Note that ```spectrogram()``` action calculates a spectrogram for each channel, so resulting array for one 2-D signal will have three dimensions: ```[n_channels, frequency, time]```."
   ]
  },
  {
   "cell_type": "code",
   "execution_count": null,
   "metadata": {},
   "outputs": [],
   "source": [
    "sig_index = changed_batch.get_pos(None, 'signal', index='A00013')\n",
    "plt.pcolormesh(changed_batch.spectrogram_data[sig_index][0, :, :])\n",
    "plt.axis(\"off\")\n",
    "plt.show()"
   ]
  },
  {
   "cell_type": "markdown",
   "metadata": {},
   "source": [
    "### [```rfft```](https://analysiscenter.github.io/cardio/api/cardio.batch.html#cardio.batch.EcgBatch.rfft)"
   ]
  },
  {
   "cell_type": "markdown",
   "metadata": {},
   "source": [
    "This action computes the one-dimensional n-point discrete Fourier Transform (DFT) of a real-valued array by means of an efficient algorithm called the Fast Fourier Transform (FFT). FFT samples a signal over a period of time (or space) and divides it into its frequency components. These components are single sinusoidal oscillations at distinct frequencies each with their own amplitude and phase. "
   ]
  },
  {
   "cell_type": "code",
   "execution_count": null,
   "metadata": {
    "collapsed": true
   },
   "outputs": [],
   "source": [
    "changed_batch = batch_with_data.deepcopy()"
   ]
  },
  {
   "cell_type": "markdown",
   "metadata": {},
   "source": [
    "Now we apply ```rfft()``` to the ```signal``` component and store the result to the atribute ```fft_data```:"
   ]
  },
  {
   "cell_type": "code",
   "execution_count": null,
   "metadata": {},
   "outputs": [],
   "source": [
    "changed_batch.rfft(src='signal', dst='fft_data')"
   ]
  },
  {
   "cell_type": "markdown",
   "metadata": {},
   "source": [
    "And the next step: calculate power spectrum and plot it. To calculate power spectrum we will square the absolute value of the spectrogram."
   ]
  },
  {
   "cell_type": "code",
   "execution_count": null,
   "metadata": {},
   "outputs": [],
   "source": [
    "sig_index = changed_batch.get_pos(None, 'signal', index='A00013')\n",
    "\n",
    "power_spectrum = np.abs(changed_batch.fft_data[sig_index][0])**2\n",
    "\n",
    "plt.plot(power_spectrum)\n",
    "plt.grid(True)\n",
    "plt.xlabel('Frequency')\n",
    "plt.ylabel('Amplitude')\n",
    "plt.show()"
   ]
  },
  {
   "cell_type": "markdown",
   "metadata": {},
   "source": [
    "### [```apply_transform```](https://analysiscenter.github.io/cardio/api/cardio.batch.html#cardio.batch.EcgBatch.apply_transform)"
   ]
  },
  {
   "cell_type": "markdown",
   "metadata": {},
   "source": [
    "This action applies some function to each item in the batch. \n",
    "\n",
    "\n",
    "For a source ```src``` and a destination ```dst``` ```apply_transform()``` does the following:\n",
    "\n",
    "```python\n",
    "for item in range(len(batch)):\n",
    "    batch.dst[item] = func(batch.src[item], *args, **kwargs)\n",
    "```\n",
    "\n",
    "```src``` and ```dst``` should be a component of a batch.\n",
    "\n",
    "The main benefit of the ```apply_transform``` action is that it runs in parallel."
   ]
  },
  {
   "cell_type": "code",
   "execution_count": null,
   "metadata": {
    "collapsed": true
   },
   "outputs": [],
   "source": [
    "original_batch = batch_with_data.deepcopy()\n",
    "changed_batch = batch_with_data.deepcopy()"
   ]
  },
  {
   "cell_type": "markdown",
   "metadata": {},
   "source": [
    "Let's apply ```np.abs()``` function to the signals and take look at the result:"
   ]
  },
  {
   "cell_type": "code",
   "execution_count": null,
   "metadata": {},
   "outputs": [],
   "source": [
    "changed_batch.apply_transform(src='signal', dst='signal', func=np.abs)"
   ]
  },
  {
   "cell_type": "code",
   "execution_count": null,
   "metadata": {},
   "outputs": [],
   "source": [
    "original_batch.show_ecg('A00001')\n",
    "\n",
    "changed_batch.show_ecg('A00001')"
   ]
  },
  {
   "cell_type": "markdown",
   "metadata": {},
   "source": [
    "### [```drop_labels```](https://analysiscenter.github.io/cardio/api/cardio.batch.html#cardio.batch.EcgBatch.drop_labels)"
   ]
  },
  {
   "cell_type": "markdown",
   "metadata": {},
   "source": [
    "```drop_labels()``` removes from batch those elements, whose label is listed in the argument ```drop_list```."
   ]
  },
  {
   "cell_type": "code",
   "execution_count": null,
   "metadata": {
    "collapsed": true
   },
   "outputs": [],
   "source": [
    "original_batch = batch_with_data.deepcopy()\n",
    "changed_batch = batch_with_data.deepcopy()"
   ]
  },
  {
   "cell_type": "markdown",
   "metadata": {},
   "source": [
    "Note that this action creates a new batch, so we will call it like this:"
   ]
  },
  {
   "cell_type": "code",
   "execution_count": null,
   "metadata": {
    "collapsed": true
   },
   "outputs": [],
   "source": [
    "changed_batch = changed_batch.drop_labels([\"O\"])"
   ]
  },
  {
   "cell_type": "markdown",
   "metadata": {},
   "source": [
    "Now we can inspect labels in the batches:"
   ]
  },
  {
   "cell_type": "code",
   "execution_count": null,
   "metadata": {},
   "outputs": [],
   "source": [
    "print('Labels in original batch: ', original_batch.target)\n",
    "print('Labels in batch after drop: ', changed_batch.target)"
   ]
  },
  {
   "cell_type": "markdown",
   "metadata": {},
   "source": [
    "As far as this action creates new batch, it changes ```index``` of the batch, removing indices that correspond to signals with udesired label:"
   ]
  },
  {
   "cell_type": "code",
   "execution_count": null,
   "metadata": {},
   "outputs": [],
   "source": [
    "print('Indices in original batch: ', original_batch.indices)\n",
    "print('Indices in batch after drop: ', changed_batch.indices)"
   ]
  },
  {
   "cell_type": "markdown",
   "metadata": {},
   "source": [
    "### [```rename_labels```](https://analysiscenter.github.io/cardio/api/cardio.batch.html#cardio.batch.EcgBatch.rename_labels)"
   ]
  },
  {
   "cell_type": "markdown",
   "metadata": {},
   "source": [
    "```rename_labels()``` simply replaces labels according to the argument ```rename_dict```."
   ]
  },
  {
   "cell_type": "code",
   "execution_count": null,
   "metadata": {
    "collapsed": true
   },
   "outputs": [],
   "source": [
    "original_batch = batch_with_data.deepcopy()\n",
    "changed_batch = batch_with_data.deepcopy()"
   ]
  },
  {
   "cell_type": "markdown",
   "metadata": {},
   "source": [
    "Suppose, we want to build a classification model to find people with arrhythmia using ECG signal. But we have data with three labels: \"N\" (normal), \"A\" (atrial fibrillation), \"O\" (other arrhythmias). So, all we need to do is to replace labels \"A\" and \"O\" with some other label, say \"AO\":"
   ]
  },
  {
   "cell_type": "code",
   "execution_count": null,
   "metadata": {
    "collapsed": true
   },
   "outputs": [],
   "source": [
    "changed_batch = changed_batch.rename_labels(rename_dict={'A':'AO', 'O':'AO'})"
   ]
  },
  {
   "cell_type": "markdown",
   "metadata": {},
   "source": [
    "Now we have only two unique labels in the target component:"
   ]
  },
  {
   "cell_type": "code",
   "execution_count": null,
   "metadata": {},
   "outputs": [],
   "source": [
    "print('Labels in original batch: ', original_batch.target)\n",
    "print('Labels in batch after drop: ', changed_batch.target)"
   ]
  },
  {
   "cell_type": "markdown",
   "metadata": {},
   "source": [
    "And you can see that property ```unique_labels``` of the batch changed too:"
   ]
  },
  {
   "cell_type": "code",
   "execution_count": null,
   "metadata": {},
   "outputs": [],
   "source": [
    "print('Labels in original batch: ', original_batch.unique_labels)\n",
    "print('Labels in batch after drop: ', changed_batch.unique_labels)"
   ]
  },
  {
   "cell_type": "markdown",
   "metadata": {},
   "source": [
    "### [```rename_channels```](https://analysiscenter.github.io/cardio/api/cardio.batch.html#cardio.batch.EcgBatch.rename_channels)"
   ]
  },
  {
   "cell_type": "markdown",
   "metadata": {},
   "source": [
    "```rename_channels()``` changes names of the channels that are stored in ```meta``` component under key \"signame\"`b"
   ]
  },
  {
   "cell_type": "code",
   "execution_count": null,
   "metadata": {
    "collapsed": true
   },
   "outputs": [],
   "source": [
    "original_batch = batch_with_data.deepcopy()\n",
    "changed_batch = batch_with_data.deepcopy()"
   ]
  },
  {
   "cell_type": "markdown",
   "metadata": {},
   "source": [
    "If you want to change channel name from \"ECG\" to \"Channel #1\" you need to write this:"
   ]
  },
  {
   "cell_type": "code",
   "execution_count": null,
   "metadata": {
    "collapsed": true
   },
   "outputs": [],
   "source": [
    "changed_batch = changed_batch.rename_channels(rename_dict={'ECG':'Channel #1'})"
   ]
  },
  {
   "cell_type": "code",
   "execution_count": null,
   "metadata": {
    "collapsed": true
   },
   "outputs": [],
   "source": [
    "print('Signal names in original batch: ', original_batch[\"A00001\"].meta[\"signame\"])\n",
    "print('Signal names in batch after drop: ', changed_batch[\"A00001\"].meta[\"signame\"])"
   ]
  },
  {
   "cell_type": "markdown",
   "metadata": {},
   "source": [
    "Note that method ```show_ecg()``` now will display new name."
   ]
  },
  {
   "cell_type": "code",
   "execution_count": null,
   "metadata": {
    "collapsed": true
   },
   "outputs": [],
   "source": [
    "original_batch.show_ecg('A00001')\n",
    "\n",
    "changed_batch.show_ecg('A00001')"
   ]
  },
  {
   "cell_type": "markdown",
   "metadata": {},
   "source": [
    "## Summary"
   ]
  },
  {
   "cell_type": "markdown",
   "metadata": {},
   "source": [
    "In [documentation](https://analysiscenter.github.io/cardio/api/cardio.ecg_batch.html) on EcgBatch you will find more actions that can be applied to batches.\n",
    "\n",
    "Summarizing, in Notebook 1 we learned:\n",
    "* How to get ECG data\n",
    "* How to create datasets\n",
    "* How to apply actions\n",
    "* How different actions affect batch and its components\n",
    "\n",
    "In the next [Notebook 2](https://github.com/analysiscenter/cardio/blob/hmm_model_update/tutorials/II.Pipelines.ipynb) we will combine actions in pipeline."
   ]
  }
 ],
 "metadata": {
  "kernelspec": {
   "display_name": "Python [default]",
   "language": "python",
   "name": "python3"
  },
  "language_info": {
   "codemirror_mode": {
    "name": "ipython",
    "version": 3
   },
   "file_extension": ".py",
   "mimetype": "text/x-python",
   "name": "python",
   "nbconvert_exporter": "python",
   "pygments_lexer": "ipython3",
   "version": "3.6.2"
  }
 },
 "nbformat": 4,
 "nbformat_minor": 2
}
