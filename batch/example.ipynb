{
 "cells": [
  {
   "cell_type": "code",
   "execution_count": 7,
   "metadata": {
    "collapsed": true,
    "deletable": true,
    "editable": true
   },
   "outputs": [],
   "source": [
    "from ecg_batch import *\n",
    "from dataset.dsindex import FilesIndex, DatasetIndex\n",
    "import numpy as np\n",
    "import matplotlib.pyplot as plt\n",
    "import time\n",
    "\n",
    "DIR_ECG = '/notebooks/data/ECG/training2017/'\n",
    "files = np.array(open(DIR_ECG\n",
    "                      + 'RECORDS', 'r').read().splitlines())[:10]\n",
    "\n",
    "paths = [DIR_ECG + x for x in files]\n",
    "ind = DatasetIndex(index = files)\n",
    "\n",
    "src = dict(zip(files, paths))\n",
    "ecg_batch = EcgBatch(ind.indices)"
   ]
  },
  {
   "cell_type": "code",
   "execution_count": 8,
   "metadata": {
    "collapsed": false,
    "deletable": true,
    "editable": true
   },
   "outputs": [
    {
     "name": "stdout",
     "output_type": "stream",
     "text": [
      "3.2063143253326416\n"
     ]
    }
   ],
   "source": [
    "startTime = time.time()\n",
    "ecg_batch = (ecg_batch.load(src)\n",
    "             .gradient(order=1).gradient(order=2)\n",
    "             .convolve('grad_1').convolve('grad_2')\n",
    "             .wavelet_filter('db4', from_levels=np.array([3, 4]), t_low=90, t_high=95)\n",
    "             .convolve('DWT_filter')\n",
    "             .hmm_estimate(layers=['grad_2_conv', 'DWT_filter_conv'], \n",
    "                           n_components=4, n_iter=5)\n",
    "             .get_r_peaks(prior='DWT_filter_conv')\n",
    "             .dump('./dump', fmt='npz')\n",
    "            )\n",
    "print(time.time() - startTime)"
   ]
  },
  {
   "cell_type": "code",
   "execution_count": 9,
   "metadata": {
    "collapsed": false,
    "deletable": true,
    "editable": true
   },
   "outputs": [
    {
     "name": "stdout",
     "output_type": "stream",
     "text": [
      "2.0881316661834717\n"
     ]
    }
   ],
   "source": [
    "ds = Dataset(index=DatasetIndex(index = files), batch_class=EcgBatch)\n",
    "\n",
    "startTime = time.time()\n",
    "(ds.pipeline().load(src)\n",
    "              .gradient(order=1).gradient(order=2)\n",
    "              .convolve('grad_1').convolve('grad_2')\n",
    "              .wavelet_filter('db4', from_levels=np.array([3, 4]), t_low=90, t_high=95)\n",
    "              .convolve('DWT_filter')\n",
    "              .hmm_estimate(layers=['grad_2_conv', 'DWT_filter_conv'], \n",
    "                            n_components=4, n_iter=5)\n",
    "              .get_r_peaks(prior='DWT_filter_conv')\n",
    "              .dump('./dump', fmt='npz')\n",
    "              .run(batch_size=len(src)//2, shuffle=False, n_epochs=1, prefetch=2, target='mpc'))\n",
    "print(time.time() - startTime)"
   ]
  }
 ],
 "metadata": {
  "kernelspec": {
   "display_name": "Python 3",
   "language": "python",
   "name": "python3"
  },
  "language_info": {
   "codemirror_mode": {
    "name": "ipython",
    "version": 3
   },
   "file_extension": ".py",
   "mimetype": "text/x-python",
   "name": "python",
   "nbconvert_exporter": "python",
   "pygments_lexer": "ipython3",
   "version": "3.5.2"
  }
 },
 "nbformat": 4,
 "nbformat_minor": 2
}
